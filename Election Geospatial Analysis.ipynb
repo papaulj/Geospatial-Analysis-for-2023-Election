{
 "cells": [
  {
   "cell_type": "markdown",
   "id": "0bd48b1f-b90b-4125-8a8a-c294ab4916ee",
   "metadata": {},
   "source": [
    "## This task relates to geospatial analysis for election purposes"
   ]
  },
  {
   "cell_type": "code",
   "execution_count": 1,
   "id": "511f27bc-3edc-4e46-bfdf-7bc064c2ce37",
   "metadata": {},
   "outputs": [],
   "source": [
    "import pandas as pd\n",
    "import numpy as np"
   ]
  },
  {
   "cell_type": "code",
   "execution_count": 2,
   "id": "5cea320d-be50-4e16-95f3-f0352da51a75",
   "metadata": {},
   "outputs": [
    {
     "data": {
      "text/plain": [
       "State                     False\n",
       "LGA                       False\n",
       "Ward                      False\n",
       "PU-Code                   False\n",
       "PU-Name                   False\n",
       "Accredited_Voters         False\n",
       "Registered_Voters         False\n",
       "Results_Found             False\n",
       "Transcription_Count       False\n",
       "Result_Sheet_Stamped      False\n",
       "Result_Sheet_Corrected    False\n",
       "Result_Sheet_Invalid      False\n",
       "Result_Sheet_Unclear      False\n",
       "Result_Sheet_Unsigned     False\n",
       "APC                       False\n",
       "LP                        False\n",
       "PDP                       False\n",
       "NNPP                      False\n",
       "Results_File              False\n",
       "dtype: bool"
      ]
     },
     "execution_count": 2,
     "metadata": {},
     "output_type": "execute_result"
    }
   ],
   "source": [
    "df = pd.read_csv('OSUN_crosschecked.csv')\n",
    "df.isnull().any()"
   ]
  },
  {
   "cell_type": "code",
   "execution_count": 5,
   "id": "e5b20a35-116b-4779-8e56-2f60e74da3be",
   "metadata": {},
   "outputs": [
    {
     "data": {
      "text/html": [
       "<div>\n",
       "<style scoped>\n",
       "    .dataframe tbody tr th:only-of-type {\n",
       "        vertical-align: middle;\n",
       "    }\n",
       "\n",
       "    .dataframe tbody tr th {\n",
       "        vertical-align: top;\n",
       "    }\n",
       "\n",
       "    .dataframe thead th {\n",
       "        text-align: right;\n",
       "    }\n",
       "</style>\n",
       "<table border=\"1\" class=\"dataframe\">\n",
       "  <thead>\n",
       "    <tr style=\"text-align: right;\">\n",
       "      <th></th>\n",
       "      <th>Address</th>\n",
       "    </tr>\n",
       "  </thead>\n",
       "  <tbody>\n",
       "    <tr>\n",
       "      <th>0</th>\n",
       "      <td>TOWN HALL IWARA IWARA ATAKUMOSA EAST OSUN Nigeria</td>\n",
       "    </tr>\n",
       "    <tr>\n",
       "      <th>1</th>\n",
       "      <td>L.A. SCHOOL, IWIKUN IWARA ATAKUMOSA EAST OSUN ...</td>\n",
       "    </tr>\n",
       "    <tr>\n",
       "      <th>2</th>\n",
       "      <td>METHODIST PRY. SCHOOL, AYETORO IWARA ATAKUMOSA...</td>\n",
       "    </tr>\n",
       "    <tr>\n",
       "      <th>3</th>\n",
       "      <td>OPEN SPACE ODO-IWARA IWARA ATAKUMOSA EAST OSUN...</td>\n",
       "    </tr>\n",
       "    <tr>\n",
       "      <th>4</th>\n",
       "      <td>N.U.D PRY. SCHOL, IGANGAN IGANGAN ATAKUMOSA EA...</td>\n",
       "    </tr>\n",
       "    <tr>\n",
       "      <th>...</th>\n",
       "      <td>...</td>\n",
       "    </tr>\n",
       "    <tr>\n",
       "      <th>2243</th>\n",
       "      <td>OPEN SPACE, SALVATION ARMY PRY.SCHOOL CAR PARK...</td>\n",
       "    </tr>\n",
       "    <tr>\n",
       "      <th>2244</th>\n",
       "      <td>OPEN SPACE, SALVATION ARMY PRY.SCHOOL CAR PARK...</td>\n",
       "    </tr>\n",
       "    <tr>\n",
       "      <th>2245</th>\n",
       "      <td>OPEN SPACE, BOOSERE STREET JUNCTION, AROGUNMAS...</td>\n",
       "    </tr>\n",
       "    <tr>\n",
       "      <th>2246</th>\n",
       "      <td>OPEN SPACE, BOOSERE STREET JUNCTION, AROGUNMAS...</td>\n",
       "    </tr>\n",
       "    <tr>\n",
       "      <th>2247</th>\n",
       "      <td>OPEN SPACE, BOOSERE STREET JUNCTION, AROGUNMAS...</td>\n",
       "    </tr>\n",
       "  </tbody>\n",
       "</table>\n",
       "<p>2248 rows × 1 columns</p>\n",
       "</div>"
      ],
      "text/plain": [
       "                                                Address\n",
       "0     TOWN HALL IWARA IWARA ATAKUMOSA EAST OSUN Nigeria\n",
       "1     L.A. SCHOOL, IWIKUN IWARA ATAKUMOSA EAST OSUN ...\n",
       "2     METHODIST PRY. SCHOOL, AYETORO IWARA ATAKUMOSA...\n",
       "3     OPEN SPACE ODO-IWARA IWARA ATAKUMOSA EAST OSUN...\n",
       "4     N.U.D PRY. SCHOL, IGANGAN IGANGAN ATAKUMOSA EA...\n",
       "...                                                 ...\n",
       "2243  OPEN SPACE, SALVATION ARMY PRY.SCHOOL CAR PARK...\n",
       "2244  OPEN SPACE, SALVATION ARMY PRY.SCHOOL CAR PARK...\n",
       "2245  OPEN SPACE, BOOSERE STREET JUNCTION, AROGUNMAS...\n",
       "2246  OPEN SPACE, BOOSERE STREET JUNCTION, AROGUNMAS...\n",
       "2247  OPEN SPACE, BOOSERE STREET JUNCTION, AROGUNMAS...\n",
       "\n",
       "[2248 rows x 1 columns]"
      ]
     },
     "execution_count": 5,
     "metadata": {},
     "output_type": "execute_result"
    }
   ],
   "source": [
    "df['Address'] = df[['PU-Name', 'Ward', 'LGA', 'State']].astype(str).agg(' '.join, axis=1) + ' Nigeria'\n",
    "df1 =df[['Address']]\n",
    "df1"
   ]
  },
  {
   "cell_type": "markdown",
   "id": "dd2d759b-4c5f-4e6e-9f82-7aaebb8e874f",
   "metadata": {},
   "source": [
    "### Only the first 2004 rows were geocoded the first day due to limits on Opencage free account"
   ]
  },
  {
   "cell_type": "code",
   "execution_count": null,
   "id": "188a0d2f-d786-4dcc-8036-84b73dc0fac9",
   "metadata": {},
   "outputs": [],
   "source": [
    "import pandas as pd\n",
    "from opencage.geocoder import OpenCageGeocode\n",
    "\n",
    "# Initialize OpenCage Geocoder with your API key\n",
    "API_KEY = '35155c1fb35f4bc7901f05a976ebe826'\n",
    "geocoder = OpenCageGeocode(API_KEY)\n",
    "\n",
    "# Function to get coordinates\n",
    "def get_coordinates(address):\n",
    "    try:\n",
    "        result = geocoder.geocode(address)\n",
    "        if result:\n",
    "            return pd.Series([result[0]['geometry']['lat'], result[0]['geometry']['lng']])\n",
    "        else:\n",
    "            return pd.Series([None, None])  # Return None if no location found\n",
    "    except Exception as e:\n",
    "        print(f\"Error geocoding {address}: {e}\")\n",
    "        return pd.Series([None, None])\n",
    "\n",
    "\n",
    "# Apply geocoding function to each address\n",
    "df1[['Latitude', 'Longitude']] = df1['Address'].apply(get_coordinates)\n",
    "\n",
    "# Save geocoded data\n",
    "df1.to_csv('geocoded_address.csv', index=False)\n",
    "\n",
    "print(df1.head())  # Print first few rows to verify"
   ]
  },
  {
   "cell_type": "markdown",
   "id": "7c3ec589-45a7-4e8f-8fcb-9a10265f91e9",
   "metadata": {},
   "source": [
    "### The geocoding of the remaining rows will be completed subsequently\n",
    "### This is the second day completion of the geocoding of the pollin units"
   ]
  },
  {
   "cell_type": "code",
   "execution_count": 14,
   "id": "19e2d600-f03b-47b7-9c5d-a410cef8257e",
   "metadata": {},
   "outputs": [
    {
     "name": "stdout",
     "output_type": "stream",
     "text": [
      "                                             Address  Latitude  Longitude\n",
      "0  IDI IROKO/ABEPE KAJOLA OLUFON OROLU 'H' OROLU ...   7.90159    4.47283\n",
      "1  ISANGBE/ELEGUDU OLUFON OROLU 'H' OROLU OSUN Ni...   7.90159    4.47283\n",
      "2  GBOGBO PRY. SCHOOL OLUFON OROLU  'I' OROLU OSU...   7.90159    4.47283\n",
      "3  ALAIKO VILLAGE OLUFON OROLU  'I' OROLU OSUN Ni...   7.90159    4.47283\n",
      "4  AROHUN VILLAGE OLUFON OROLU  'I' OROLU OSUN Ni...   7.90159    4.47283\n"
     ]
    }
   ],
   "source": [
    "# Initialize OpenCage Geocoder with your API key\n",
    "API_KEY = '35155c1fb35f4bc7901f05a976ebe826'\n",
    "geocoder = OpenCageGeocode(API_KEY)\n",
    "\n",
    "# First extract the remaining location which needs to be geocoded\n",
    "First_geocode = pd.read_csv('geocoded_address.csv')\n",
    "df_gc= First_geocode.loc[2000:]\n",
    "df_gc\n",
    "\n",
    "df_gc = pd.read_csv('new geocode.csv')\n",
    "\n",
    "# Function to get coordinates\n",
    "def get_coordinates(address):\n",
    "    try:\n",
    "        result = geocoder.geocode(address)\n",
    "        if result:\n",
    "            return pd.Series([result[0]['geometry']['lat'], result[0]['geometry']['lng']])\n",
    "        else:\n",
    "            return pd.Series([None, None])  # Return None if no location found\n",
    "    except Exception as e:\n",
    "        print(f\"Error geocoding {address}: {e}\")\n",
    "        return pd.Series([None, None])\n",
    "\n",
    "\n",
    "# Apply geocoding function to each address\n",
    "df_gc[['Latitude', 'Longitude']] = df_gc['Address'].apply(get_coordinates)\n",
    "\n",
    "# Save geocoded data\n",
    "df_gc.to_csv('geocoded_address_new.csv', index=False)\n",
    "\n",
    "print(df_gc.head())  # Print first few rows to verify\n"
   ]
  },
  {
   "cell_type": "markdown",
   "id": "183a2909-9dac-477f-9435-a2775092d07a",
   "metadata": {},
   "source": [
    "## Now let us merge the results of both geocoding operations into a single geocoded file"
   ]
  },
  {
   "cell_type": "code",
   "execution_count": 58,
   "id": "2706d4bc-fbd2-4e54-bf6f-baaf4585fc5e",
   "metadata": {},
   "outputs": [
    {
     "data": {
      "text/html": [
       "<div>\n",
       "<style scoped>\n",
       "    .dataframe tbody tr th:only-of-type {\n",
       "        vertical-align: middle;\n",
       "    }\n",
       "\n",
       "    .dataframe tbody tr th {\n",
       "        vertical-align: top;\n",
       "    }\n",
       "\n",
       "    .dataframe thead th {\n",
       "        text-align: right;\n",
       "    }\n",
       "</style>\n",
       "<table border=\"1\" class=\"dataframe\">\n",
       "  <thead>\n",
       "    <tr style=\"text-align: right;\">\n",
       "      <th></th>\n",
       "      <th>Address</th>\n",
       "      <th>Latitude</th>\n",
       "      <th>Longitude</th>\n",
       "    </tr>\n",
       "  </thead>\n",
       "  <tbody>\n",
       "    <tr>\n",
       "      <th>0</th>\n",
       "      <td>TOWN HALL IWARA IWARA ATAKUMOSA EAST OSUN Nigeria</td>\n",
       "      <td>7.5</td>\n",
       "      <td>4.5</td>\n",
       "    </tr>\n",
       "    <tr>\n",
       "      <th>1</th>\n",
       "      <td>L.A. SCHOOL, IWIKUN IWARA ATAKUMOSA EAST OSUN ...</td>\n",
       "      <td>7.5</td>\n",
       "      <td>4.5</td>\n",
       "    </tr>\n",
       "    <tr>\n",
       "      <th>2</th>\n",
       "      <td>METHODIST PRY. SCHOOL, AYETORO IWARA ATAKUMOSA...</td>\n",
       "      <td>7.5</td>\n",
       "      <td>4.5</td>\n",
       "    </tr>\n",
       "    <tr>\n",
       "      <th>3</th>\n",
       "      <td>OPEN SPACE ODO-IWARA IWARA ATAKUMOSA EAST OSUN...</td>\n",
       "      <td>7.5</td>\n",
       "      <td>4.5</td>\n",
       "    </tr>\n",
       "    <tr>\n",
       "      <th>4</th>\n",
       "      <td>N.U.D PRY. SCHOL, IGANGAN IGANGAN ATAKUMOSA EA...</td>\n",
       "      <td>7.5</td>\n",
       "      <td>4.5</td>\n",
       "    </tr>\n",
       "    <tr>\n",
       "      <th>...</th>\n",
       "      <td>...</td>\n",
       "      <td>...</td>\n",
       "      <td>...</td>\n",
       "    </tr>\n",
       "    <tr>\n",
       "      <th>2243</th>\n",
       "      <td>OPEN SPACE, SALVATION ARMY PRY.SCHOOL CAR PARK...</td>\n",
       "      <td>NaN</td>\n",
       "      <td>NaN</td>\n",
       "    </tr>\n",
       "    <tr>\n",
       "      <th>2244</th>\n",
       "      <td>OPEN SPACE, SALVATION ARMY PRY.SCHOOL CAR PARK...</td>\n",
       "      <td>NaN</td>\n",
       "      <td>NaN</td>\n",
       "    </tr>\n",
       "    <tr>\n",
       "      <th>2245</th>\n",
       "      <td>OPEN SPACE, BOOSERE STREET JUNCTION, AROGUNMAS...</td>\n",
       "      <td>NaN</td>\n",
       "      <td>NaN</td>\n",
       "    </tr>\n",
       "    <tr>\n",
       "      <th>2246</th>\n",
       "      <td>OPEN SPACE, BOOSERE STREET JUNCTION, AROGUNMAS...</td>\n",
       "      <td>NaN</td>\n",
       "      <td>NaN</td>\n",
       "    </tr>\n",
       "    <tr>\n",
       "      <th>2247</th>\n",
       "      <td>OPEN SPACE, BOOSERE STREET JUNCTION, AROGUNMAS...</td>\n",
       "      <td>NaN</td>\n",
       "      <td>NaN</td>\n",
       "    </tr>\n",
       "  </tbody>\n",
       "</table>\n",
       "<p>2248 rows × 3 columns</p>\n",
       "</div>"
      ],
      "text/plain": [
       "                                                Address  Latitude  Longitude\n",
       "0     TOWN HALL IWARA IWARA ATAKUMOSA EAST OSUN Nigeria       7.5        4.5\n",
       "1     L.A. SCHOOL, IWIKUN IWARA ATAKUMOSA EAST OSUN ...       7.5        4.5\n",
       "2     METHODIST PRY. SCHOOL, AYETORO IWARA ATAKUMOSA...       7.5        4.5\n",
       "3     OPEN SPACE ODO-IWARA IWARA ATAKUMOSA EAST OSUN...       7.5        4.5\n",
       "4     N.U.D PRY. SCHOL, IGANGAN IGANGAN ATAKUMOSA EA...       7.5        4.5\n",
       "...                                                 ...       ...        ...\n",
       "2243  OPEN SPACE, SALVATION ARMY PRY.SCHOOL CAR PARK...       NaN        NaN\n",
       "2244  OPEN SPACE, SALVATION ARMY PRY.SCHOOL CAR PARK...       NaN        NaN\n",
       "2245  OPEN SPACE, BOOSERE STREET JUNCTION, AROGUNMAS...       NaN        NaN\n",
       "2246  OPEN SPACE, BOOSERE STREET JUNCTION, AROGUNMAS...       NaN        NaN\n",
       "2247  OPEN SPACE, BOOSERE STREET JUNCTION, AROGUNMAS...       NaN        NaN\n",
       "\n",
       "[2248 rows x 3 columns]"
      ]
     },
     "execution_count": 58,
     "metadata": {},
     "output_type": "execute_result"
    }
   ],
   "source": [
    "df = pd.read_csv('geocoded_address_new.csv')\n",
    "df1 = pd.read_csv('geocoded_address.csv')\n",
    "Geocoded_combined = pd.concat([df1.iloc[:2000], df])\n",
    "Geocoded_combined.reset_index(drop = True)"
   ]
  },
  {
   "cell_type": "code",
   "execution_count": 59,
   "id": "1e49d930-7c98-4108-9a2e-f7c0ccec9124",
   "metadata": {},
   "outputs": [
    {
     "data": {
      "text/plain": [
       "Address        0\n",
       "Latitude     131\n",
       "Longitude    131\n",
       "dtype: int64"
      ]
     },
     "execution_count": 59,
     "metadata": {},
     "output_type": "execute_result"
    }
   ],
   "source": [
    "# lets now clean the data containing the geocoded coordinates of the PUs by filling the few unfound coordinates forward\n",
    "# Geocoded_combined.duplicated()\n",
    "Geocoded_combined.isnull().sum()"
   ]
  },
  {
   "cell_type": "code",
   "execution_count": 60,
   "id": "57128433-7c16-4adb-b887-02cd4388784d",
   "metadata": {
    "scrolled": true
   },
   "outputs": [
    {
     "name": "stderr",
     "output_type": "stream",
     "text": [
      "C:\\Users\\DELL\\AppData\\Local\\Temp\\ipykernel_7176\\1596874865.py:1: FutureWarning: DataFrame.fillna with 'method' is deprecated and will raise in a future version. Use obj.ffill() or obj.bfill() instead.\n",
      "  Geocoded_combined[['Latitude', 'Longitude']] = Geocoded_combined[['Latitude', 'Longitude']].fillna(method = 'ffill')\n"
     ]
    }
   ],
   "source": [
    "Geocoded_combined[['Latitude', 'Longitude']] = Geocoded_combined[['Latitude', 'Longitude']].fillna(method = 'ffill')"
   ]
  },
  {
   "cell_type": "code",
   "execution_count": 81,
   "id": "557c054f-f306-418a-a033-74d90801b01c",
   "metadata": {
    "scrolled": true
   },
   "outputs": [
    {
     "name": "stdout",
     "output_type": "stream",
     "text": [
      "<class 'pandas.core.frame.DataFrame'>\n",
      "Index: 2248 entries, 0 to 247\n",
      "Data columns (total 3 columns):\n",
      " #   Column     Non-Null Count  Dtype  \n",
      "---  ------     --------------  -----  \n",
      " 0   Address    2248 non-null   object \n",
      " 1   Latitude   2248 non-null   float64\n",
      " 2   Longitude  2248 non-null   float64\n",
      "dtypes: float64(2), object(1)\n",
      "memory usage: 70.2+ KB\n"
     ]
    }
   ],
   "source": [
    "Geocoded_combined.isnull().sum()\n",
    "Geocoded_combined.info()"
   ]
  },
  {
   "cell_type": "markdown",
   "id": "00a53de6-7f71-45d7-90d7-2e395eb2992c",
   "metadata": {},
   "source": [
    "## Saving the file updated with the coordinates back to the datan file"
   ]
  },
  {
   "cell_type": "code",
   "execution_count": 84,
   "id": "ca527e60-7ab2-425a-9f3b-4e8e22b34f58",
   "metadata": {},
   "outputs": [
    {
     "name": "stdout",
     "output_type": "stream",
     "text": [
      "<class 'pandas.core.frame.DataFrame'>\n",
      "RangeIndex: 31396 entries, 0 to 31395\n",
      "Data columns (total 27 columns):\n",
      " #   Column                  Non-Null Count  Dtype  \n",
      "---  ------                  --------------  -----  \n",
      " 0   Unnamed: 0.1            31396 non-null  int64  \n",
      " 1   Unnamed: 0              31396 non-null  int64  \n",
      " 2   State                   31396 non-null  object \n",
      " 3   LGA                     31396 non-null  object \n",
      " 4   Ward                    31396 non-null  object \n",
      " 5   PU-Code                 31396 non-null  object \n",
      " 6   PU-Name                 31396 non-null  object \n",
      " 7   Accredited_Voters       31396 non-null  int64  \n",
      " 8   Registered_Voters       31396 non-null  int64  \n",
      " 9   Results_Found           31396 non-null  bool   \n",
      " 10  Transcription_Count     31396 non-null  int64  \n",
      " 11  Result_Sheet_Stamped    31396 non-null  bool   \n",
      " 12  Result_Sheet_Corrected  31396 non-null  bool   \n",
      " 13  Result_Sheet_Invalid    31396 non-null  bool   \n",
      " 14  Result_Sheet_Unclear    31396 non-null  bool   \n",
      " 15  Result_Sheet_Unsigned   31396 non-null  object \n",
      " 16  APC                     31396 non-null  int64  \n",
      " 17  LP                      31396 non-null  int64  \n",
      " 18  PDP                     31396 non-null  int64  \n",
      " 19  NNPP                    31396 non-null  int64  \n",
      " 20  Results_File            31396 non-null  object \n",
      " 21  Latitude_x              31396 non-null  float64\n",
      " 22  Longitude_x             31396 non-null  float64\n",
      " 23  Latitude_y              31396 non-null  float64\n",
      " 24  Longitude_y             31396 non-null  float64\n",
      " 25  Latitude                31396 non-null  float64\n",
      " 26  Longitude               31396 non-null  float64\n",
      "dtypes: bool(5), float64(6), int64(9), object(7)\n",
      "memory usage: 5.4+ MB\n"
     ]
    }
   ],
   "source": [
    "# Noew megre this back with the origianl data set for further analysis and clustering\n",
    "df = pd.read_csv('OSUN_crosschecked.csv')\n",
    "df['Address'] = df[['PU-Name', 'Ward', 'LGA', 'State']].astype(str).agg(' '.join, axis=1) + ' Nigeria'\n",
    "df=pd.merge(df, Geocoded_combined, on = 'Address')\n",
    "df.drop(columns = 'Address', inplace = True) #drop the address column that was used for the geocoding\n",
    "df.to_csv('OSUN_crosschecked.csv') #Save the file back with the coordinates\n",
    "df.info()"
   ]
  },
  {
   "cell_type": "code",
   "execution_count": 92,
   "id": "dfb6a011-a973-4e27-95f2-75f32c96b948",
   "metadata": {
    "collapsed": true,
    "jupyter": {
     "outputs_hidden": true
    },
    "scrolled": true
   },
   "outputs": [
    {
     "name": "stdout",
     "output_type": "stream",
     "text": [
      "<class 'pandas.core.frame.DataFrame'>\n",
      "Index: 2248 entries, 0 to 31395\n",
      "Data columns (total 21 columns):\n",
      " #   Column                  Non-Null Count  Dtype  \n",
      "---  ------                  --------------  -----  \n",
      " 0   State                   2248 non-null   object \n",
      " 1   LGA                     2248 non-null   object \n",
      " 2   Ward                    2248 non-null   object \n",
      " 3   PU-Code                 2248 non-null   object \n",
      " 4   PU-Name                 2248 non-null   object \n",
      " 5   Accredited_Voters       2248 non-null   int64  \n",
      " 6   Registered_Voters       2248 non-null   int64  \n",
      " 7   Results_Found           2248 non-null   bool   \n",
      " 8   Transcription_Count     2248 non-null   int64  \n",
      " 9   Result_Sheet_Stamped    2248 non-null   bool   \n",
      " 10  Result_Sheet_Corrected  2248 non-null   bool   \n",
      " 11  Result_Sheet_Invalid    2248 non-null   bool   \n",
      " 12  Result_Sheet_Unclear    2248 non-null   bool   \n",
      " 13  Result_Sheet_Unsigned   2248 non-null   object \n",
      " 14  APC                     2248 non-null   int64  \n",
      " 15  LP                      2248 non-null   int64  \n",
      " 16  PDP                     2248 non-null   int64  \n",
      " 17  NNPP                    2248 non-null   int64  \n",
      " 18  Results_File            2248 non-null   object \n",
      " 19  Latitude                2248 non-null   float64\n",
      " 20  Longitude               2248 non-null   float64\n",
      "dtypes: bool(5), float64(2), int64(7), object(7)\n",
      "memory usage: 309.5+ KB\n"
     ]
    }
   ],
   "source": [
    "df = pd.read_csv('OSUN_crosschecked.csv')\n",
    "df= df.drop_duplicates()\n",
    "df.info()"
   ]
  },
  {
   "cell_type": "code",
   "execution_count": 93,
   "id": "c7b0a306-7e91-489b-aabb-420b1c3a52d5",
   "metadata": {},
   "outputs": [],
   "source": [
    "df.to_csv('OSUN_Geocoded_updated.csv', index = False)"
   ]
  },
  {
   "cell_type": "markdown",
   "id": "7da83e59-e8dd-43cc-80eb-b141eac04b66",
   "metadata": {},
   "source": [
    "# Clustering Analysis sing HDBSCAN"
   ]
  },
  {
   "cell_type": "code",
   "execution_count": 94,
   "id": "513be3b0-fba0-4c0b-a6dd-e7a358a5db32",
   "metadata": {},
   "outputs": [
    {
     "data": {
      "image/png": "[encoded data removed]",
      "text/plain": [
       "<Figure size 1500x600 with 2 Axes>"
      ]
     },
     "metadata": {},
     "output_type": "display_data"
    },
    {
     "name": "stdout",
     "output_type": "stream",
     "text": [
      "  State             LGA   Ward       PU-Code  \\\n",
      "0  OSUN  ATAKUMOSA EAST  IWARA  29-01-01-001   \n",
      "1  OSUN  ATAKUMOSA EAST  IWARA  29-01-01-003   \n",
      "2  OSUN  ATAKUMOSA EAST  IWARA  29-01-01-004   \n",
      "3  OSUN  ATAKUMOSA EAST  IWARA  29-01-01-007   \n",
      "4  OSUN  ATAKUMOSA EAST  IWARA  29-01-01-009   \n",
      "\n",
      "                                             PU-Name  Accredited_Voters  \\\n",
      "0                                    TOWN HALL IWARA                181   \n",
      "1                                L.A. SCHOOL, IWIKUN                245   \n",
      "2                     METHODIST PRY. SCHOOL, AYETORO                117   \n",
      "3                               OPEN SPACE ODO-IWARA                187   \n",
      "4  OPEN SPACE INFRONT OF OSUN STATE GOVT. REVENUE...                 52   \n",
      "\n",
      "   Registered_Voters  Results_Found  Transcription_Count  \\\n",
      "0                942           True                   -1   \n",
      "1                881           True                   -1   \n",
      "2                308           True                   -1   \n",
      "3                538           True                   -1   \n",
      "4                100           True                   -1   \n",
      "\n",
      "   Result_Sheet_Stamped  ...  Result_Sheet_Unclear  Result_Sheet_Unsigned  \\\n",
      "0                 False  ...                 False                UNKNOWN   \n",
      "1                 False  ...                 False                UNKNOWN   \n",
      "2                 False  ...                 False                UNKNOWN   \n",
      "3                 False  ...                 False                UNKNOWN   \n",
      "4                 False  ...                 False                UNKNOWN   \n",
      "\n",
      "   APC   LP  PDP  NNPP                                       Results_File  \\\n",
      "0   44  273    0     0  https://inec-cvr-cache.s3.eu-west-1.amazonaws....   \n",
      "1   40   11  175     1  https://inec-cvr-cache.s3.eu-west-1.amazonaws....   \n",
      "2   14    3   99     1  https://inec-cvr-cache.s3.eu-west-1.amazonaws....   \n",
      "3   25    4  155     0  https://docs.inecelectionresults.net/elections...   \n",
      "4   17    0   34     0  https://inec-cvr-cache.s3.eu-west-1.amazonaws....   \n",
      "\n",
      "   Latitude Longitude  HDBSCAN_Cluster  \n",
      "0       7.5       4.5                6  \n",
      "1       7.5       4.5                6  \n",
      "2       7.5       4.5                6  \n",
      "3       7.5       4.5                6  \n",
      "4       7.5       4.5                6  \n",
      "\n",
      "[5 rows x 22 columns]\n"
     ]
    },
    {
     "data": {
      "text/plain": [
       "30"
      ]
     },
     "execution_count": 94,
     "metadata": {},
     "output_type": "execute_result"
    }
   ],
   "source": [
    "\n",
    "import matplotlib.pyplot as plt\n",
    "from sklearn.cluster import DBSCAN\n",
    "import hdbscan\n",
    "from geopy.distance import great_circle\n",
    "\n",
    "\n",
    "# Read the updated file and save it as a dataframe again\n",
    "df = pd.read_csv('OSUN_Geocoded_updated.csv')\n",
    "# Convert to numpy array for clustering\n",
    "coords = df[['Latitude', 'Longitude']].to_numpy()\n",
    "\n",
    "\n",
    "# HDBSCAN Clustering\n",
    "hdb = hdbscan.HDBSCAN(min_cluster_size=10, metric='haversine')\n",
    "df['HDBSCAN_Cluster'] = hdb.fit_predict(np.radians(coords))\n",
    "\n",
    "# Plot results\n",
    "plt.figure(figsize=(15, 6))\n",
    "plt.scatter(df['Longitude'], df['Latitude'], c=df['HDBSCAN_Cluster'], cmap='tab10', alpha=0.7)\n",
    "plt.xlabel(\"Longitude\")\n",
    "plt.ylabel(\"Latitude\")\n",
    "plt.title(\"Polling Unit Clusters (HDBSCAN)\")\n",
    "plt.colorbar(label=\"Cluster Label\")\n",
    "plt.show()\n",
    "\n",
    "# Save results\n",
    "df.to_csv('OSUN_Geocoded_Cluustered', index=False)\n",
    "\n",
    "print(df.head())  # Show first few rows\n",
    "df['HDBSCAN_Cluster'].nunique()"
   ]
  },
  {
   "cell_type": "code",
   "execution_count": 95,
   "id": "5c71b0db-0a8c-4f3b-b6e2-e93e87ba158f",
   "metadata": {},
   "outputs": [
    {
     "data": {
      "text/plain": [
       "30"
      ]
     },
     "execution_count": 95,
     "metadata": {},
     "output_type": "execute_result"
    }
   ],
   "source": [
    "df['HDBSCAN_Cluster'].nunique()"
   ]
  },
  {
   "cell_type": "code",
   "execution_count": null,
   "id": "646db673-504e-451b-a886-2e92822caaaa",
   "metadata": {},
   "outputs": [],
   "source": []
  },
  {
   "cell_type": "markdown",
   "id": "588da3b2-0e69-4747-bc73-f82880838c85",
   "metadata": {},
   "source": [
    "# Clustering Analysis using DBSCAN"
   ]
  },
  {
   "cell_type": "code",
   "execution_count": 97,
   "id": "6c436ac4-e0a4-467e-879d-29ed39e30713",
   "metadata": {},
   "outputs": [
    {
     "data": {
      "image/png": "[encoded data removed]",
      "text/plain": [
       "<Figure size 1500x600 with 2 Axes>"
      ]
     },
     "metadata": {},
     "output_type": "display_data"
    },
    {
     "data": {
      "text/plain": [
       "2"
      ]
     },
     "execution_count": 97,
     "metadata": {},
     "output_type": "execute_result"
    }
   ],
   "source": [
    "\n",
    "import matplotlib.pyplot as plt\n",
    "from sklearn.cluster import DBSCAN\n",
    "import hdbscan\n",
    "from geopy.distance import great_circle\n",
    "\n",
    "df2 = pd.read_csv('OSUN_Geocoded_updated.csv')\n",
    "# Convert to numpy array for clustering\n",
    "coords = df2[['Latitude', 'Longitude']].to_numpy()\n",
    "\n",
    "# DBSCAN Clustering\n",
    "dbscan = DBSCAN(eps=0.01, min_samples=5, metric='haversine')  # Adjust eps as needed\n",
    "df2['DBSCAN_Cluster'] = dbscan.fit_predict(np.radians(coords))  # Convert to radians for geospatial distance\n",
    "\n",
    "# HDBSCAN Clustering\n",
    "# hdb = hdbscan.HDBSCAN(min_cluster_size=10, metric='haversine')\n",
    "# df2['HDBSCAN_Cluster'] = hdb.fit_predict(np.radians(coords))\n",
    "\n",
    "# Plot results\n",
    "plt.figure(figsize=(15, 6))\n",
    "plt.scatter(df2['Longitude'], df2['Latitude'], c=df2['DBSCAN_Cluster'], cmap='tab10', alpha=0.7)\n",
    "plt.xlabel(\"Longitude\")\n",
    "plt.ylabel(\"Latitude\")\n",
    "plt.title(\"Polling Unit Clusters (DBSCAN)\")\n",
    "plt.colorbar(label=\"Cluster Label\")\n",
    "plt.show()\n",
    "\n",
    "# Save results\n",
    "df2.to_csv('clustered_dbscan_polling_units.csv', index=False)\n",
    "\n",
    "df2['DBSCAN_Cluster'].nunique() # Show how many clusters were obtained\n"
   ]
  },
  {
   "cell_type": "markdown",
   "id": "3057d2a3-b325-4ba5-8f1d-f606afb96459",
   "metadata": {},
   "source": [
    "### Since the dbscan clustering gave just 2 clusters, it is not robust enough for this data and is therefore jettisoned"
   ]
  },
  {
   "cell_type": "markdown",
   "id": "703f2c1b-a2b6-4490-bf39-0c48401afb03",
   "metadata": {},
   "source": [
    "# Spatial Outlier Analysis"
   ]
  },
  {
   "cell_type": "markdown",
   "id": "76e4cda6-8401-4eac-8f9f-b0e8ceaa38eb",
   "metadata": {},
   "source": [
    "### Local Moran’s I to identify localized spatial autocorrelation."
   ]
  },
  {
   "cell_type": "code",
   "execution_count": 106,
   "id": "0529df65-1b0a-4f1f-aa93-92653f4eef68",
   "metadata": {},
   "outputs": [
    {
     "name": "stderr",
     "output_type": "stream",
     "text": [
      "C:\\Users\\DELL\\anaconda3\\Lib\\site-packages\\libpysal\\weights\\distance.py:153: UserWarning: The weights matrix is not fully connected: \n",
      " There are 28 disconnected components.\n",
      "  W.__init__(self, neighbors, id_order=ids, **kwargs)\n"
     ]
    },
    {
     "data": {
      "image/png": "[encoded data removed]",
      "text/plain": [
       "<Figure size 1000x600 with 2 Axes>"
      ]
     },
     "metadata": {},
     "output_type": "display_data"
    },
    {
     "name": "stdout",
     "output_type": "stream",
     "text": [
      "   Latitude  Longitude  Local_Moran_I  p_value     Cluster_Type\n",
      "0       7.5        4.5       0.024315    0.055  Not Significant\n",
      "1       7.5        4.5       0.024315    0.055  Not Significant\n",
      "2       7.5        4.5       0.024315    0.055  Not Significant\n",
      "3       7.5        4.5       0.024315    0.055  Not Significant\n",
      "4       7.5        4.5       0.024315    0.055  Not Significant\n"
     ]
    }
   ],
   "source": [
    "import pandas as pd\n",
    "import geopandas as gpd\n",
    "import numpy as np\n",
    "import matplotlib.pyplot as plt\n",
    "from libpysal.weights import KNN, Rook, Queen\n",
    "from esda.moran import Moran_Local\n",
    "from shapely.geometry import Point\n",
    "\n",
    "# Load polling unit dataset (ensure it has 'Latitude' and 'Longitude' columns)\n",
    "df = pd.read_csv('OSUN_Geocoded_Cluustered')\n",
    "\n",
    "# Convert to GeoDataFrame\n",
    "geometry = [Point(xy) for xy in zip(df['Longitude'], df['Latitude'])]\n",
    "gdf = gpd.GeoDataFrame(df, geometry=geometry, crs=\"EPSG:4326\")  # WGS 84 coordinate system\n",
    "\n",
    "# Create spatial weights (using k-Nearest Neighbors with k=5)\n",
    "knn_weights = KNN.from_dataframe(gdf, k=5)\n",
    "\n",
    "# Compute Local Moran's I\n",
    "moran_local = Moran_Local(gdf['Latitude'], knn_weights)\n",
    "\n",
    "# Store the outlier scores (z-scores of Local Moran’s I)\n",
    "gdf['Local_Moran_I'] = moran_local.Is\n",
    "gdf['p_value'] = moran_local.p_sim  # P-value for significance testing\n",
    "gdf['Cluster_Type'] = np.where(\n",
    "    (moran_local.q == 1) & (moran_local.p_sim < 0.05), 'High-High',\n",
    "    np.where((moran_local.q == 2) & (moran_local.p_sim < 0.05), 'Low-Low',\n",
    "             np.where((moran_local.q == 3) & (moran_local.p_sim < 0.05), 'High-Low',\n",
    "                      np.where((moran_local.q == 4) & (moran_local.p_sim < 0.05), 'Low-High', 'Not Significant'))))\n",
    "\n",
    "# Save results to CSV\n",
    "gdf.to_csv('polling_units_local_moran.csv', index=False)\n",
    "\n",
    "# Plot the results\n",
    "plt.figure(figsize=(10, 6))\n",
    "plt.scatter(gdf['Longitude'], gdf['Latitude'], c=gdf['Local_Moran_I'], cmap='coolwarm', alpha=0.7)\n",
    "plt.colorbar(label=\"Local Moran’s I Score\")\n",
    "plt.xlabel(\"Longitude\")\n",
    "plt.ylabel(\"Latitude\")\n",
    "plt.title(\"Local Moran’s I Outlier Scores for Polling Units\")\n",
    "plt.show()\n",
    "\n",
    "# Display first few rows\n",
    "print(gdf[['Latitude', 'Longitude', 'Local_Moran_I', 'p_value', 'Cluster_Type']].head())"
   ]
  },
  {
   "cell_type": "code",
   "execution_count": 108,
   "id": "1184cd44-68c3-48ba-ba1c-36e0a65d9e73",
   "metadata": {},
   "outputs": [
    {
     "name": "stderr",
     "output_type": "stream",
     "text": [
      "C:\\Users\\DELL\\AppData\\Local\\Temp\\ipykernel_7176\\1494243327.py:10: FutureWarning: \n",
      "\n",
      "Passing `palette` without assigning `hue` is deprecated and will be removed in v0.14.0. Assign the `y` variable to `hue` and set `legend=False` for the same effect.\n",
      "\n",
      "  sns.countplot(y=gdf[\"Cluster_Type\"], order=gdf[\"Cluster_Type\"].value_counts().index, palette=\"viridis\")\n"
     ]
    },
    {
     "data": {
      "image/png": "[encoded data removed]",
      "text/plain": [
       "<Figure size 800x500 with 1 Axes>"
      ]
     },
     "metadata": {},
     "output_type": "display_data"
    }
   ],
   "source": [
    "## Plot the distribution of the Local_Moran's spatial autocoreelation as a bar chart\n",
    "import matplotlib.pyplot as plt\n",
    "import seaborn as sns\n",
    "\n",
    "# Set seaborn style\n",
    "sns.set_style(\"whitegrid\")\n",
    "\n",
    "# Create the bar plot\n",
    "plt.figure(figsize=(8, 5))\n",
    "sns.countplot(y=gdf[\"Cluster_Type\"], order=gdf[\"Cluster_Type\"].value_counts().index, palette=\"viridis\")\n",
    "\n",
    "# Customize the plot\n",
    "plt.title(\"Cluster Type Distribution\")\n",
    "plt.xlabel(\"Count\")\n",
    "plt.ylabel(\"Cluster Type\")\n",
    "\n",
    "# Show the plot\n",
    "plt.show()\n"
   ]
  },
  {
   "cell_type": "code",
   "execution_count": 128,
   "id": "06e74592-84d7-4e25-b9f6-3119cf5f4763",
   "metadata": {},
   "outputs": [
    {
     "data": {
      "text/plain": [
       "['Not Significant', 'High-High', 'High-Low']"
      ]
     },
     "execution_count": 128,
     "metadata": {},
     "output_type": "execute_result"
    }
   ],
   "source": [
    "#  Tab_summary = pd.DataFrame((gdf['Cluster_Type'].value_counts()), columns = [['Cluster Type', 'Frequency']])\n",
    "Tab =  (gdf['Cluster_Type'].value_counts())\n",
    "#Tab_summary\n",
    "Name = Tab.keys().to_list()"
   ]
  },
  {
   "cell_type": "code",
   "execution_count": 132,
   "id": "0b1c45f9-611c-4bc1-9dd8-065229df1f07",
   "metadata": {},
   "outputs": [
    {
     "data": {
      "text/html": [
       "<div>\n",
       "<style scoped>\n",
       "    .dataframe tbody tr th:only-of-type {\n",
       "        vertical-align: middle;\n",
       "    }\n",
       "\n",
       "    .dataframe tbody tr th {\n",
       "        vertical-align: top;\n",
       "    }\n",
       "\n",
       "    .dataframe thead th {\n",
       "        text-align: right;\n",
       "    }\n",
       "</style>\n",
       "<table border=\"1\" class=\"dataframe\">\n",
       "  <thead>\n",
       "    <tr style=\"text-align: right;\">\n",
       "      <th></th>\n",
       "      <th>0</th>\n",
       "    </tr>\n",
       "  </thead>\n",
       "  <tbody>\n",
       "    <tr>\n",
       "      <th>0</th>\n",
       "      <td>Name</td>\n",
       "    </tr>\n",
       "    <tr>\n",
       "      <th>1</th>\n",
       "      <td>Tab</td>\n",
       "    </tr>\n",
       "  </tbody>\n",
       "</table>\n",
       "</div>"
      ],
      "text/plain": [
       "      0\n",
       "0  Name\n",
       "1   Tab"
      ]
     },
     "execution_count": 132,
     "metadata": {},
     "output_type": "execute_result"
    }
   ],
   "source": [
    "aj = pd.DataFrame(['Name', 'Tab'])\n",
    "aj"
   ]
  },
  {
   "cell_type": "markdown",
   "id": "720ccdb2-42f1-47f5-91da-8fc1ee87d437",
   "metadata": {},
   "source": [
    "## Getis-Ord Gi(Hot Spot Analysis) to detect significant vote concentration."
   ]
  },
  {
   "cell_type": "code",
   "execution_count": 137,
   "id": "d9876879-e3aa-4918-b9e3-5966db40d1e9",
   "metadata": {},
   "outputs": [
    {
     "name": "stderr",
     "output_type": "stream",
     "text": [
      "C:\\Users\\DELL\\anaconda3\\Lib\\site-packages\\libpysal\\weights\\distance.py:153: UserWarning: The weights matrix is not fully connected: \n",
      " There are 27 disconnected components.\n",
      "  W.__init__(self, neighbors, id_order=ids, **kwargs)\n"
     ]
    },
    {
     "ename": "TypingError",
     "evalue": "\u001b[1mFailed in nopython mode pipeline (step: nopython frontend)\n\u001b[1m\u001b[1m\u001b[1m\u001b[1m\u001b[1m\u001b[1mFailed in nopython mode pipeline (step: nopython frontend)\n\u001b[1mFailed in nopython mode pipeline (step: nopython frontend)\n\u001b[1m\u001b[1m\u001b[1mNo implementation of function Function(<intrinsic _impl>) found for signature:\n \n >>> _impl(array(int64, 2d, C), array(float64, 1d, C))\n \nThere are 2 candidate implementations:\n\u001b[1m  - Of which 2 did not match due to:\n  Intrinsic in function 'dot_2_impl.<locals>._impl': File: numba\\np\\linalg.py: Line 543.\n    With argument(s): '(array(int64, 2d, C), array(float64, 1d, C))':\u001b[0m\n\u001b[1m   Rejected as the implementation raised a specific error:\n     TypingError: \u001b[1m'@' arguments must all have the same dtype\u001b[0m\u001b[0m\n  raised from C:\\Users\\DELL\\anaconda3\\Lib\\site-packages\\numba\\np\\linalg.py:563\n\u001b[0m\n\u001b[0m\u001b[1mDuring: resolving callee type: Function(<intrinsic _impl>)\u001b[0m\n\u001b[0m\u001b[1mDuring: typing of call at C:\\Users\\DELL\\anaconda3\\Lib\\site-packages\\numba\\np\\linalg.py (582)\n\u001b[0m\n\u001b[1m\nFile \"..\\..\\..\\..\\anaconda3\\Lib\\site-packages\\numba\\np\\linalg.py\", line 582:\u001b[0m\n\u001b[1m            def _dot2_codegen(context, builder, sig, args):\n                <source elided>\n\n\u001b[1m        return lambda left, right: _impl(left, right)\n\u001b[0m        \u001b[1m^\u001b[0m\u001b[0m\n\n\u001b[0m\u001b[1mDuring: typing of intrinsic-call at C:\\Users\\DELL\\anaconda3\\Lib\\site-packages\\esda\\getisord.py (683)\u001b[0m\n\u001b[1m\nFile \"..\\..\\..\\..\\anaconda3\\Lib\\site-packages\\esda\\getisord.py\", line 683:\u001b[0m\n\u001b[1mdef _g_local_crand(i, z, permuted_ids, weights_i, scaling):\n    <source elided>\n    zi, zrand = _prepare_univariate(i, z, permuted_ids, other_weights)\n\u001b[1m    return (zrand @ other_weights) / (scaling - zi)\n\u001b[0m    \u001b[1m^\u001b[0m\u001b[0m\n\n\u001b[0m\u001b[1mDuring: resolving callee type: type(CPUDispatcher(<function _g_local_crand at 0x000001F202C77E20>))\u001b[0m\n\u001b[0m\u001b[1mDuring: typing of call at C:\\Users\\DELL\\anaconda3\\Lib\\site-packages\\esda\\crand.py (325)\n\u001b[0m\n\u001b[0m\u001b[1mDuring: resolving callee type: type(CPUDispatcher(<function _g_local_crand at 0x000001F202C77E20>))\u001b[0m\n\u001b[0m\u001b[1mDuring: typing of call at C:\\Users\\DELL\\anaconda3\\Lib\\site-packages\\esda\\crand.py (325)\n\u001b[0m\n\u001b[0m\u001b[1mDuring: resolving callee type: type(CPUDispatcher(<function _g_local_crand at 0x000001F202C77E20>))\u001b[0m\n\u001b[0m\u001b[1mDuring: typing of call at C:\\Users\\DELL\\anaconda3\\Lib\\site-packages\\esda\\crand.py (325)\n\u001b[0m\n\u001b[1m\nFile \"..\\..\\..\\..\\anaconda3\\Lib\\site-packages\\esda\\crand.py\", line 325:\u001b[0m\n\u001b[1mdef compute_chunk(\n    <source elided>\n        mask[chunk_start + i] = False\n\u001b[1m        rstats = stat_func(chunk_start + i, z, permuted_ids, weights_i, scaling)\n\u001b[0m        \u001b[1m^\u001b[0m\u001b[0m\n\u001b[0m",
     "output_type": "error",
     "traceback": [
      "\u001b[1;31m---------------------------------------------------------------------------\u001b[0m",
      "\u001b[1;31m_RemoteTraceback\u001b[0m                          Traceback (most recent call last)",
      "\u001b[1;31m_RemoteTraceback\u001b[0m: \n\"\"\"\nTraceback (most recent call last):\n  File \"C:\\Users\\DELL\\anaconda3\\Lib\\site-packages\\joblib\\externals\\loky\\process_executor.py\", line 463, in _process_worker\n    r = call_item()\n        ^^^^^^^^^^^\n  File \"C:\\Users\\DELL\\anaconda3\\Lib\\site-packages\\joblib\\externals\\loky\\process_executor.py\", line 291, in __call__\n    return self.fn(*self.args, **self.kwargs)\n           ^^^^^^^^^^^^^^^^^^^^^^^^^^^^^^^^^^\n  File \"C:\\Users\\DELL\\anaconda3\\Lib\\site-packages\\joblib\\parallel.py\", line 598, in __call__\n    return [func(*args, **kwargs)\n            ^^^^^^^^^^^^^^^^^^^^^\n  File \"C:\\Users\\DELL\\anaconda3\\Lib\\site-packages\\numba\\core\\dispatcher.py\", line 423, in _compile_for_args\n    error_rewrite(e, 'typing')\n  File \"C:\\Users\\DELL\\anaconda3\\Lib\\site-packages\\numba\\core\\dispatcher.py\", line 364, in error_rewrite\n    raise e.with_traceback(None)\nnumba.core.errors.TypingError: Failed in nopython mode pipeline (step: nopython frontend)\n\u001b[1m\u001b[1m\u001b[1m\u001b[1m\u001b[1m\u001b[1mFailed in nopython mode pipeline (step: nopython frontend)\n\u001b[1mFailed in nopython mode pipeline (step: nopython frontend)\n\u001b[1m\u001b[1m\u001b[1mNo implementation of function Function(<intrinsic _impl>) found for signature:\n \n >>> _impl(array(int64, 2d, C), array(float64, 1d, C))\n \nThere are 2 candidate implementations:\n\u001b[1m  - Of which 2 did not match due to:\n  Intrinsic in function 'dot_2_impl.<locals>._impl': File: numba\\np\\linalg.py: Line 543.\n    With argument(s): '(array(int64, 2d, C), array(float64, 1d, C))':\u001b[0m\n\u001b[1m   Rejected as the implementation raised a specific error:\n     TypingError: \u001b[1m'@' arguments must all have the same dtype\u001b[0m\u001b[0m\n  raised from C:\\Users\\DELL\\anaconda3\\Lib\\site-packages\\numba\\np\\linalg.py:563\n\u001b[0m\n\u001b[0m\u001b[1mDuring: resolving callee type: Function(<intrinsic _impl>)\u001b[0m\n\u001b[0m\u001b[1mDuring: typing of call at C:\\Users\\DELL\\anaconda3\\Lib\\site-packages\\numba\\np\\linalg.py (582)\n\u001b[0m\n\u001b[1m\nFile \"..\\..\\..\\..\\anaconda3\\Lib\\site-packages\\numba\\np\\linalg.py\", line 582:\u001b[0m\n\u001b[1m            def _dot2_codegen(context, builder, sig, args):\n                <source elided>\n\n\u001b[1m        return lambda left, right: _impl(left, right)\n\u001b[0m        \u001b[1m^\u001b[0m\u001b[0m\n\n\u001b[0m\u001b[1mDuring: typing of intrinsic-call at C:\\Users\\DELL\\anaconda3\\Lib\\site-packages\\esda\\getisord.py (683)\u001b[0m\n\u001b[1m\nFile \"..\\..\\..\\..\\anaconda3\\Lib\\site-packages\\esda\\getisord.py\", line 683:\u001b[0m\n\u001b[1mdef _g_local_crand(i, z, permuted_ids, weights_i, scaling):\n    <source elided>\n    zi, zrand = _prepare_univariate(i, z, permuted_ids, other_weights)\n\u001b[1m    return (zrand @ other_weights) / (scaling - zi)\n\u001b[0m    \u001b[1m^\u001b[0m\u001b[0m\n\n\u001b[0m\u001b[1mDuring: resolving callee type: type(CPUDispatcher(<function _g_local_crand at 0x000001F202C77E20>))\u001b[0m\n\u001b[0m\u001b[1mDuring: typing of call at C:\\Users\\DELL\\anaconda3\\Lib\\site-packages\\esda\\crand.py (325)\n\u001b[0m\n\u001b[0m\u001b[1mDuring: resolving callee type: type(CPUDispatcher(<function _g_local_crand at 0x000001F202C77E20>))\u001b[0m\n\u001b[0m\u001b[1mDuring: typing of call at C:\\Users\\DELL\\anaconda3\\Lib\\site-packages\\esda\\crand.py (325)\n\u001b[0m\n\u001b[0m\u001b[1mDuring: resolving callee type: type(CPUDispatcher(<function _g_local_crand at 0x000001F202C77E20>))\u001b[0m\n\u001b[0m\u001b[1mDuring: typing of call at C:\\Users\\DELL\\anaconda3\\Lib\\site-packages\\esda\\crand.py (325)\n\u001b[0m\n\u001b[1m\nFile \"..\\..\\..\\..\\anaconda3\\Lib\\site-packages\\esda\\crand.py\", line 325:\u001b[0m\n\u001b[1mdef compute_chunk(\n    <source elided>\n        mask[chunk_start + i] = False\n\u001b[1m        rstats = stat_func(chunk_start + i, z, permuted_ids, weights_i, scaling)\n\u001b[0m        \u001b[1m^\u001b[0m\u001b[0m\n\n\"\"\"",
      "\nThe above exception was the direct cause of the following exception:\n",
      "\u001b[1;31mTypingError\u001b[0m                               Traceback (most recent call last)",
      "Cell \u001b[1;32mIn[137], line 21\u001b[0m\n\u001b[0;32m     18\u001b[0m w\u001b[38;5;241m.\u001b[39mtransform \u001b[38;5;241m=\u001b[39m \u001b[38;5;124m\"\u001b[39m\u001b[38;5;124mR\u001b[39m\u001b[38;5;124m\"\u001b[39m  \u001b[38;5;66;03m# Row standardization\u001b[39;00m\n\u001b[0;32m     20\u001b[0m \u001b[38;5;66;03m# Compute Getis-Ord Gi* statistic\u001b[39;00m\n\u001b[1;32m---> 21\u001b[0m g_star \u001b[38;5;241m=\u001b[39m esda\u001b[38;5;241m.\u001b[39mgetisord\u001b[38;5;241m.\u001b[39mG_Local(gdf[\u001b[38;5;124m\"\u001b[39m\u001b[38;5;124mAccredited_Voters\u001b[39m\u001b[38;5;124m\"\u001b[39m], w)\n\u001b[0;32m     23\u001b[0m \u001b[38;5;66;03m# Add Gi* values and p-values to the DataFrame\u001b[39;00m\n\u001b[0;32m     24\u001b[0m gdf[\u001b[38;5;124m\"\u001b[39m\u001b[38;5;124mGi_star\u001b[39m\u001b[38;5;124m\"\u001b[39m] \u001b[38;5;241m=\u001b[39m g_star\u001b[38;5;241m.\u001b[39mZs  \u001b[38;5;66;03m# Standardized Getis-Ord Gi*\u001b[39;00m\n",
      "File \u001b[1;32m~\\anaconda3\\Lib\\site-packages\\esda\\getisord.py:433\u001b[0m, in \u001b[0;36mG_Local.__init__\u001b[1;34m(self, y, w, transform, permutations, star, keep_simulations, n_jobs, seed, island_weight)\u001b[0m\n\u001b[0;32m    431\u001b[0m \u001b[38;5;28mself\u001b[39m\u001b[38;5;241m.\u001b[39mp_norm \u001b[38;5;241m=\u001b[39m stats\u001b[38;5;241m.\u001b[39mnorm\u001b[38;5;241m.\u001b[39msf(np\u001b[38;5;241m.\u001b[39mabs(\u001b[38;5;28mself\u001b[39m\u001b[38;5;241m.\u001b[39mZs))\n\u001b[0;32m    432\u001b[0m \u001b[38;5;28;01mif\u001b[39;00m permutations:\n\u001b[1;32m--> 433\u001b[0m     \u001b[38;5;28mself\u001b[39m\u001b[38;5;241m.\u001b[39mp_sim, \u001b[38;5;28mself\u001b[39m\u001b[38;5;241m.\u001b[39mrGs \u001b[38;5;241m=\u001b[39m _crand_plus(\n\u001b[0;32m    434\u001b[0m         y,\n\u001b[0;32m    435\u001b[0m         w,\n\u001b[0;32m    436\u001b[0m         \u001b[38;5;28mself\u001b[39m\u001b[38;5;241m.\u001b[39mGs,\n\u001b[0;32m    437\u001b[0m         permutations,\n\u001b[0;32m    438\u001b[0m         keep_simulations,\n\u001b[0;32m    439\u001b[0m         n_jobs\u001b[38;5;241m=\u001b[39mn_jobs,\n\u001b[0;32m    440\u001b[0m         stat_func\u001b[38;5;241m=\u001b[39m_g_local_star_crand \u001b[38;5;28;01mif\u001b[39;00m star \u001b[38;5;28;01melse\u001b[39;00m _g_local_crand,\n\u001b[0;32m    441\u001b[0m         scaling\u001b[38;5;241m=\u001b[39my\u001b[38;5;241m.\u001b[39msum(),\n\u001b[0;32m    442\u001b[0m         seed\u001b[38;5;241m=\u001b[39mseed,\n\u001b[0;32m    443\u001b[0m         island_weight\u001b[38;5;241m=\u001b[39misland_weight,\n\u001b[0;32m    444\u001b[0m     )\n\u001b[0;32m    445\u001b[0m     \u001b[38;5;28;01mif\u001b[39;00m keep_simulations:\n\u001b[0;32m    446\u001b[0m         \u001b[38;5;28mself\u001b[39m\u001b[38;5;241m.\u001b[39msim \u001b[38;5;241m=\u001b[39m sim \u001b[38;5;241m=\u001b[39m \u001b[38;5;28mself\u001b[39m\u001b[38;5;241m.\u001b[39mrGs\u001b[38;5;241m.\u001b[39mT\n",
      "File \u001b[1;32m~\\anaconda3\\Lib\\site-packages\\esda\\crand.py:208\u001b[0m, in \u001b[0;36mcrand\u001b[1;34m(z, w, observed, permutations, keep, n_jobs, stat_func, scaling, seed, island_weight)\u001b[0m\n\u001b[0;32m    206\u001b[0m         n_jobs \u001b[38;5;241m=\u001b[39m \u001b[38;5;28mlen\u001b[39m(z)\n\u001b[0;32m    207\u001b[0m     \u001b[38;5;66;03m# Parallel implementation\u001b[39;00m\n\u001b[1;32m--> 208\u001b[0m     larger, rlocals \u001b[38;5;241m=\u001b[39m parallel_crand(\n\u001b[0;32m    209\u001b[0m         z,\n\u001b[0;32m    210\u001b[0m         observed,\n\u001b[0;32m    211\u001b[0m         cardinalities,\n\u001b[0;32m    212\u001b[0m         self_weights,\n\u001b[0;32m    213\u001b[0m         other_weights,\n\u001b[0;32m    214\u001b[0m         permuted_ids,\n\u001b[0;32m    215\u001b[0m         scaling,\n\u001b[0;32m    216\u001b[0m         n_jobs,\n\u001b[0;32m    217\u001b[0m         keep,\n\u001b[0;32m    218\u001b[0m         stat_func,\n\u001b[0;32m    219\u001b[0m         island_weight,\n\u001b[0;32m    220\u001b[0m     )\n\u001b[0;32m    222\u001b[0m low_extreme \u001b[38;5;241m=\u001b[39m (permutations \u001b[38;5;241m-\u001b[39m larger) \u001b[38;5;241m<\u001b[39m larger\n\u001b[0;32m    223\u001b[0m larger[low_extreme] \u001b[38;5;241m=\u001b[39m permutations \u001b[38;5;241m-\u001b[39m larger[low_extreme]\n",
      "File \u001b[1;32m~\\anaconda3\\Lib\\site-packages\\esda\\crand.py:537\u001b[0m, in \u001b[0;36mparallel_crand\u001b[1;34m(z, observed, cardinalities, self_weights, other_weights, permuted_ids, scaling, n_jobs, keep, stat_func, island_weight)\u001b[0m\n\u001b[0;32m    525\u001b[0m chunks \u001b[38;5;241m=\u001b[39m chunk_generator(\n\u001b[0;32m    526\u001b[0m     n_jobs,\n\u001b[0;32m    527\u001b[0m     starts,\n\u001b[1;32m   (...)\u001b[0m\n\u001b[0;32m    533\u001b[0m     w_boundary_points,\n\u001b[0;32m    534\u001b[0m )\n\u001b[0;32m    536\u001b[0m \u001b[38;5;28;01mwith\u001b[39;00m parallel_backend(\u001b[38;5;124m\"\u001b[39m\u001b[38;5;124mloky\u001b[39m\u001b[38;5;124m\"\u001b[39m, inner_max_num_threads\u001b[38;5;241m=\u001b[39m\u001b[38;5;241m1\u001b[39m):\n\u001b[1;32m--> 537\u001b[0m     worker_out \u001b[38;5;241m=\u001b[39m Parallel(n_jobs\u001b[38;5;241m=\u001b[39mn_jobs)(\n\u001b[0;32m    538\u001b[0m         delayed(compute_chunk)(\n\u001b[0;32m    539\u001b[0m             \u001b[38;5;241m*\u001b[39mpars, permuted_ids, scaling, keep, stat_func, island_weight\n\u001b[0;32m    540\u001b[0m         )\n\u001b[0;32m    541\u001b[0m         \u001b[38;5;28;01mfor\u001b[39;00m pars \u001b[38;5;129;01min\u001b[39;00m chunks\n\u001b[0;32m    542\u001b[0m     )\n\u001b[0;32m    543\u001b[0m larger, rlocals \u001b[38;5;241m=\u001b[39m \u001b[38;5;28mzip\u001b[39m(\u001b[38;5;241m*\u001b[39mworker_out, strict\u001b[38;5;241m=\u001b[39m\u001b[38;5;28;01mTrue\u001b[39;00m)\n\u001b[0;32m    544\u001b[0m larger \u001b[38;5;241m=\u001b[39m np\u001b[38;5;241m.\u001b[39mhstack(larger)\u001b[38;5;241m.\u001b[39msqueeze()\n",
      "File \u001b[1;32m~\\anaconda3\\Lib\\site-packages\\joblib\\parallel.py:2007\u001b[0m, in \u001b[0;36mParallel.__call__\u001b[1;34m(self, iterable)\u001b[0m\n\u001b[0;32m   2001\u001b[0m \u001b[38;5;66;03m# The first item from the output is blank, but it makes the interpreter\u001b[39;00m\n\u001b[0;32m   2002\u001b[0m \u001b[38;5;66;03m# progress until it enters the Try/Except block of the generator and\u001b[39;00m\n\u001b[0;32m   2003\u001b[0m \u001b[38;5;66;03m# reaches the first `yield` statement. This starts the asynchronous\u001b[39;00m\n\u001b[0;32m   2004\u001b[0m \u001b[38;5;66;03m# dispatch of the tasks to the workers.\u001b[39;00m\n\u001b[0;32m   2005\u001b[0m \u001b[38;5;28mnext\u001b[39m(output)\n\u001b[1;32m-> 2007\u001b[0m \u001b[38;5;28;01mreturn\u001b[39;00m output \u001b[38;5;28;01mif\u001b[39;00m \u001b[38;5;28mself\u001b[39m\u001b[38;5;241m.\u001b[39mreturn_generator \u001b[38;5;28;01melse\u001b[39;00m \u001b[38;5;28mlist\u001b[39m(output)\n",
      "File \u001b[1;32m~\\anaconda3\\Lib\\site-packages\\joblib\\parallel.py:1650\u001b[0m, in \u001b[0;36mParallel._get_outputs\u001b[1;34m(self, iterator, pre_dispatch)\u001b[0m\n\u001b[0;32m   1647\u001b[0m     \u001b[38;5;28;01myield\u001b[39;00m\n\u001b[0;32m   1649\u001b[0m     \u001b[38;5;28;01mwith\u001b[39;00m \u001b[38;5;28mself\u001b[39m\u001b[38;5;241m.\u001b[39m_backend\u001b[38;5;241m.\u001b[39mretrieval_context():\n\u001b[1;32m-> 1650\u001b[0m         \u001b[38;5;28;01myield from\u001b[39;00m \u001b[38;5;28mself\u001b[39m\u001b[38;5;241m.\u001b[39m_retrieve()\n\u001b[0;32m   1652\u001b[0m \u001b[38;5;28;01mexcept\u001b[39;00m \u001b[38;5;167;01mGeneratorExit\u001b[39;00m:\n\u001b[0;32m   1653\u001b[0m     \u001b[38;5;66;03m# The generator has been garbage collected before being fully\u001b[39;00m\n\u001b[0;32m   1654\u001b[0m     \u001b[38;5;66;03m# consumed. This aborts the remaining tasks if possible and warn\u001b[39;00m\n\u001b[0;32m   1655\u001b[0m     \u001b[38;5;66;03m# the user if necessary.\u001b[39;00m\n\u001b[0;32m   1656\u001b[0m     \u001b[38;5;28mself\u001b[39m\u001b[38;5;241m.\u001b[39m_exception \u001b[38;5;241m=\u001b[39m \u001b[38;5;28;01mTrue\u001b[39;00m\n",
      "File \u001b[1;32m~\\anaconda3\\Lib\\site-packages\\joblib\\parallel.py:1754\u001b[0m, in \u001b[0;36mParallel._retrieve\u001b[1;34m(self)\u001b[0m\n\u001b[0;32m   1747\u001b[0m \u001b[38;5;28;01mwhile\u001b[39;00m \u001b[38;5;28mself\u001b[39m\u001b[38;5;241m.\u001b[39m_wait_retrieval():\n\u001b[0;32m   1748\u001b[0m \n\u001b[0;32m   1749\u001b[0m     \u001b[38;5;66;03m# If the callback thread of a worker has signaled that its task\u001b[39;00m\n\u001b[0;32m   1750\u001b[0m     \u001b[38;5;66;03m# triggered an exception, or if the retrieval loop has raised an\u001b[39;00m\n\u001b[0;32m   1751\u001b[0m     \u001b[38;5;66;03m# exception (e.g. `GeneratorExit`), exit the loop and surface the\u001b[39;00m\n\u001b[0;32m   1752\u001b[0m     \u001b[38;5;66;03m# worker traceback.\u001b[39;00m\n\u001b[0;32m   1753\u001b[0m     \u001b[38;5;28;01mif\u001b[39;00m \u001b[38;5;28mself\u001b[39m\u001b[38;5;241m.\u001b[39m_aborting:\n\u001b[1;32m-> 1754\u001b[0m         \u001b[38;5;28mself\u001b[39m\u001b[38;5;241m.\u001b[39m_raise_error_fast()\n\u001b[0;32m   1755\u001b[0m         \u001b[38;5;28;01mbreak\u001b[39;00m\n\u001b[0;32m   1757\u001b[0m     \u001b[38;5;66;03m# If the next job is not ready for retrieval yet, we just wait for\u001b[39;00m\n\u001b[0;32m   1758\u001b[0m     \u001b[38;5;66;03m# async callbacks to progress.\u001b[39;00m\n",
      "File \u001b[1;32m~\\anaconda3\\Lib\\site-packages\\joblib\\parallel.py:1789\u001b[0m, in \u001b[0;36mParallel._raise_error_fast\u001b[1;34m(self)\u001b[0m\n\u001b[0;32m   1785\u001b[0m \u001b[38;5;66;03m# If this error job exists, immediately raise the error by\u001b[39;00m\n\u001b[0;32m   1786\u001b[0m \u001b[38;5;66;03m# calling get_result. This job might not exists if abort has been\u001b[39;00m\n\u001b[0;32m   1787\u001b[0m \u001b[38;5;66;03m# called directly or if the generator is gc'ed.\u001b[39;00m\n\u001b[0;32m   1788\u001b[0m \u001b[38;5;28;01mif\u001b[39;00m error_job \u001b[38;5;129;01mis\u001b[39;00m \u001b[38;5;129;01mnot\u001b[39;00m \u001b[38;5;28;01mNone\u001b[39;00m:\n\u001b[1;32m-> 1789\u001b[0m     error_job\u001b[38;5;241m.\u001b[39mget_result(\u001b[38;5;28mself\u001b[39m\u001b[38;5;241m.\u001b[39mtimeout)\n",
      "File \u001b[1;32m~\\anaconda3\\Lib\\site-packages\\joblib\\parallel.py:745\u001b[0m, in \u001b[0;36mBatchCompletionCallBack.get_result\u001b[1;34m(self, timeout)\u001b[0m\n\u001b[0;32m    739\u001b[0m backend \u001b[38;5;241m=\u001b[39m \u001b[38;5;28mself\u001b[39m\u001b[38;5;241m.\u001b[39mparallel\u001b[38;5;241m.\u001b[39m_backend\n\u001b[0;32m    741\u001b[0m \u001b[38;5;28;01mif\u001b[39;00m backend\u001b[38;5;241m.\u001b[39msupports_retrieve_callback:\n\u001b[0;32m    742\u001b[0m     \u001b[38;5;66;03m# We assume that the result has already been retrieved by the\u001b[39;00m\n\u001b[0;32m    743\u001b[0m     \u001b[38;5;66;03m# callback thread, and is stored internally. It's just waiting to\u001b[39;00m\n\u001b[0;32m    744\u001b[0m     \u001b[38;5;66;03m# be returned.\u001b[39;00m\n\u001b[1;32m--> 745\u001b[0m     \u001b[38;5;28;01mreturn\u001b[39;00m \u001b[38;5;28mself\u001b[39m\u001b[38;5;241m.\u001b[39m_return_or_raise()\n\u001b[0;32m    747\u001b[0m \u001b[38;5;66;03m# For other backends, the main thread needs to run the retrieval step.\u001b[39;00m\n\u001b[0;32m    748\u001b[0m \u001b[38;5;28;01mtry\u001b[39;00m:\n",
      "File \u001b[1;32m~\\anaconda3\\Lib\\site-packages\\joblib\\parallel.py:763\u001b[0m, in \u001b[0;36mBatchCompletionCallBack._return_or_raise\u001b[1;34m(self)\u001b[0m\n\u001b[0;32m    761\u001b[0m \u001b[38;5;28;01mtry\u001b[39;00m:\n\u001b[0;32m    762\u001b[0m     \u001b[38;5;28;01mif\u001b[39;00m \u001b[38;5;28mself\u001b[39m\u001b[38;5;241m.\u001b[39mstatus \u001b[38;5;241m==\u001b[39m TASK_ERROR:\n\u001b[1;32m--> 763\u001b[0m         \u001b[38;5;28;01mraise\u001b[39;00m \u001b[38;5;28mself\u001b[39m\u001b[38;5;241m.\u001b[39m_result\n\u001b[0;32m    764\u001b[0m     \u001b[38;5;28;01mreturn\u001b[39;00m \u001b[38;5;28mself\u001b[39m\u001b[38;5;241m.\u001b[39m_result\n\u001b[0;32m    765\u001b[0m \u001b[38;5;28;01mfinally\u001b[39;00m:\n",
      "\u001b[1;31mTypingError\u001b[0m: \u001b[1mFailed in nopython mode pipeline (step: nopython frontend)\n\u001b[1m\u001b[1m\u001b[1m\u001b[1m\u001b[1m\u001b[1mFailed in nopython mode pipeline (step: nopython frontend)\n\u001b[1mFailed in nopython mode pipeline (step: nopython frontend)\n\u001b[1m\u001b[1m\u001b[1mNo implementation of function Function(<intrinsic _impl>) found for signature:\n \n >>> _impl(array(int64, 2d, C), array(float64, 1d, C))\n \nThere are 2 candidate implementations:\n\u001b[1m  - Of which 2 did not match due to:\n  Intrinsic in function 'dot_2_impl.<locals>._impl': File: numba\\np\\linalg.py: Line 543.\n    With argument(s): '(array(int64, 2d, C), array(float64, 1d, C))':\u001b[0m\n\u001b[1m   Rejected as the implementation raised a specific error:\n     TypingError: \u001b[1m'@' arguments must all have the same dtype\u001b[0m\u001b[0m\n  raised from C:\\Users\\DELL\\anaconda3\\Lib\\site-packages\\numba\\np\\linalg.py:563\n\u001b[0m\n\u001b[0m\u001b[1mDuring: resolving callee type: Function(<intrinsic _impl>)\u001b[0m\n\u001b[0m\u001b[1mDuring: typing of call at C:\\Users\\DELL\\anaconda3\\Lib\\site-packages\\numba\\np\\linalg.py (582)\n\u001b[0m\n\u001b[1m\nFile \"..\\..\\..\\..\\anaconda3\\Lib\\site-packages\\numba\\np\\linalg.py\", line 582:\u001b[0m\n\u001b[1m            def _dot2_codegen(context, builder, sig, args):\n                <source elided>\n\n\u001b[1m        return lambda left, right: _impl(left, right)\n\u001b[0m        \u001b[1m^\u001b[0m\u001b[0m\n\n\u001b[0m\u001b[1mDuring: typing of intrinsic-call at C:\\Users\\DELL\\anaconda3\\Lib\\site-packages\\esda\\getisord.py (683)\u001b[0m\n\u001b[1m\nFile \"..\\..\\..\\..\\anaconda3\\Lib\\site-packages\\esda\\getisord.py\", line 683:\u001b[0m\n\u001b[1mdef _g_local_crand(i, z, permuted_ids, weights_i, scaling):\n    <source elided>\n    zi, zrand = _prepare_univariate(i, z, permuted_ids, other_weights)\n\u001b[1m    return (zrand @ other_weights) / (scaling - zi)\n\u001b[0m    \u001b[1m^\u001b[0m\u001b[0m\n\n\u001b[0m\u001b[1mDuring: resolving callee type: type(CPUDispatcher(<function _g_local_crand at 0x000001F202C77E20>))\u001b[0m\n\u001b[0m\u001b[1mDuring: typing of call at C:\\Users\\DELL\\anaconda3\\Lib\\site-packages\\esda\\crand.py (325)\n\u001b[0m\n\u001b[0m\u001b[1mDuring: resolving callee type: type(CPUDispatcher(<function _g_local_crand at 0x000001F202C77E20>))\u001b[0m\n\u001b[0m\u001b[1mDuring: typing of call at C:\\Users\\DELL\\anaconda3\\Lib\\site-packages\\esda\\crand.py (325)\n\u001b[0m\n\u001b[0m\u001b[1mDuring: resolving callee type: type(CPUDispatcher(<function _g_local_crand at 0x000001F202C77E20>))\u001b[0m\n\u001b[0m\u001b[1mDuring: typing of call at C:\\Users\\DELL\\anaconda3\\Lib\\site-packages\\esda\\crand.py (325)\n\u001b[0m\n\u001b[1m\nFile \"..\\..\\..\\..\\anaconda3\\Lib\\site-packages\\esda\\crand.py\", line 325:\u001b[0m\n\u001b[1mdef compute_chunk(\n    <source elided>\n        mask[chunk_start + i] = False\n\u001b[1m        rstats = stat_func(chunk_start + i, z, permuted_ids, weights_i, scaling)\n\u001b[0m        \u001b[1m^\u001b[0m\u001b[0m\n\u001b[0m"
     ]
    }
   ],
   "source": [
    "import pandas as pd\n",
    "import numpy as np\n",
    "import geopandas as gpd\n",
    "import libpysal as ps\n",
    "import esda\n",
    "import matplotlib.pyplot as plt\n",
    "import seaborn as sns\n",
    "\n",
    "# Load the dataset (Ensure your dataset has latitude & longitude)\n",
    "df = pd.read_csv(\"polling_units_local_moran.csv\")\n",
    "\n",
    "# Convert to GeoDataFrame\n",
    "geometry = gpd.points_from_xy(df[\"Longitude\"], df[\"Latitude\"])\n",
    "gdf = gpd.GeoDataFrame(df, geometry=geometry)\n",
    "\n",
    "# Define spatial weights using K-Nearest Neighbors (KNN)\n",
    "w = ps.weights.KNN.from_dataframe(gdf, k=8)  # k=8 defines neighbors\n",
    "w.transform = \"R\"  # Row standardization\n",
    "\n",
    "# Compute Getis-Ord Gi* statistic\n",
    "g_star = esda.getisord.G_Local(gdf[\"Accredited_Voters\"], w)\n",
    "\n",
    "# Add Gi* values and p-values to the DataFrame\n",
    "gdf[\"Gi_star\"] = g_star.Zs  # Standardized Getis-Ord Gi*\n",
    "gdf[\"p_value\"] = g_star.p_sim  # P-values for significance\n",
    "\n",
    "# Identify significant hot/cold spots\n",
    "gdf[\"Hotspot_Type\"] = \"Not Significant\"\n",
    "gdf.loc[(gdf[\"Gi_star\"] > 1.96) & (gdf[\"p_value\"] < 0.05), \"Hotspot_Type\"] = \"Hot Spot\"\n",
    "gdf.loc[(gdf[\"Gi_star\"] < -1.96) & (gdf[\"p_value\"] < 0.05), \"Hotspot_Type\"] = \"Cold Spot\"\n",
    "\n",
    "# Plot results\n",
    "plt.figure(figsize=(8, 6))\n",
    "sns.scatterplot(data=gdf, x=\"Longitude\", y=\"Latitude\", hue=\"Hotspot_Type\", palette={\"Hot Spot\": \"red\", \"Cold Spot\": \"blue\", \"Not Significant\": \"gray\"}, alpha=0.6)\n",
    "plt.title(\"Getis-Ord Gi* (Hot Spot Analysis)\")\n",
    "plt.legend(title=\"Hot Spot Type\")\n",
    "plt.show()\n"
   ]
  },
  {
   "cell_type": "code",
   "execution_count": 138,
   "id": "2b079670-4da2-41a8-9660-21421c922cfc",
   "metadata": {},
   "outputs": [
    {
     "name": "stdout",
     "output_type": "stream",
     "text": [
      "<class 'pandas.core.frame.DataFrame'>\n",
      "RangeIndex: 2248 entries, 0 to 2247\n",
      "Data columns (total 26 columns):\n",
      " #   Column                  Non-Null Count  Dtype  \n",
      "---  ------                  --------------  -----  \n",
      " 0   State                   2248 non-null   object \n",
      " 1   LGA                     2248 non-null   object \n",
      " 2   Ward                    2248 non-null   object \n",
      " 3   PU-Code                 2248 non-null   object \n",
      " 4   PU-Name                 2248 non-null   object \n",
      " 5   Accredited_Voters       2248 non-null   int64  \n",
      " 6   Registered_Voters       2248 non-null   int64  \n",
      " 7   Results_Found           2248 non-null   bool   \n",
      " 8   Transcription_Count     2248 non-null   int64  \n",
      " 9   Result_Sheet_Stamped    2248 non-null   bool   \n",
      " 10  Result_Sheet_Corrected  2248 non-null   bool   \n",
      " 11  Result_Sheet_Invalid    2248 non-null   bool   \n",
      " 12  Result_Sheet_Unclear    2248 non-null   bool   \n",
      " 13  Result_Sheet_Unsigned   2248 non-null   object \n",
      " 14  APC                     2248 non-null   int64  \n",
      " 15  LP                      2248 non-null   int64  \n",
      " 16  PDP                     2248 non-null   int64  \n",
      " 17  NNPP                    2248 non-null   int64  \n",
      " 18  Results_File            2248 non-null   object \n",
      " 19  Latitude                2248 non-null   float64\n",
      " 20  Longitude               2248 non-null   float64\n",
      " 21  HDBSCAN_Cluster         2248 non-null   int64  \n",
      " 22  geometry                2248 non-null   object \n",
      " 23  Local_Moran_I           2248 non-null   float64\n",
      " 24  p_value                 2248 non-null   float64\n",
      " 25  Cluster_Type            2248 non-null   object \n",
      "dtypes: bool(5), float64(4), int64(8), object(9)\n",
      "memory usage: 379.9+ KB\n"
     ]
    }
   ],
   "source": [
    "df.info()"
   ]
  },
  {
   "cell_type": "code",
   "execution_count": 144,
   "id": "198e5fb3-4f35-4d45-a2ba-29ddf6dc716d",
   "metadata": {},
   "outputs": [
    {
     "name": "stderr",
     "output_type": "stream",
     "text": [
      "C:\\Users\\DELL\\anaconda3\\Lib\\site-packages\\libpysal\\weights\\distance.py:153: UserWarning: The weights matrix is not fully connected: \n",
      " There are 27 disconnected components.\n",
      "  W.__init__(self, neighbors, id_order=ids, **kwargs)\n"
     ]
    },
    {
     "data": {
      "image/png": "[encoded data removed]",
      "text/plain": [
       "<Figure size 800x600 with 1 Axes>"
      ]
     },
     "metadata": {},
     "output_type": "display_data"
    }
   ],
   "source": [
    "import pandas as pd\n",
    "import numpy as np\n",
    "import geopandas as gpd\n",
    "import libpysal as ps\n",
    "import esda\n",
    "import matplotlib.pyplot as plt\n",
    "import seaborn as sns\n",
    "\n",
    "# Load the dataset\n",
    "df = pd.read_csv(\"polling_units_local_moran.csv\")\n",
    "\n",
    "# Ensure \"Accredited Voters\", Longitude, and Latitude are numeric\n",
    "df[\"Accredited_Voters\"] = pd.to_numeric(df[\"Accredited_Voters\"], errors=\"coerce\")\n",
    "df[\"Longitude\"] = pd.to_numeric(df[\"Longitude\"], errors=\"coerce\")\n",
    "df[\"Latitude\"] = pd.to_numeric(df[\"Latitude\"], errors=\"coerce\")\n",
    "\n",
    "# Drop rows with missing values\n",
    "df = df.dropna(subset=[\"Accredited_Voters\", \"Longitude\", \"Latitude\"])\n",
    "\n",
    "# Convert to GeoDataFrame\n",
    "geometry = gpd.points_from_xy(df[\"Longitude\"], df[\"Latitude\"])\n",
    "gdf = gpd.GeoDataFrame(df, geometry=geometry)\n",
    "\n",
    "# Define spatial weights using K-Nearest Neighbors (KNN)\n",
    "w = ps.weights.KNN.from_dataframe(gdf, k=8)  # Adjust k as needed\n",
    "w.transform = \"R\"  # Row standardization\n",
    "\n",
    "\n",
    "# Compute Getis-Ord Gi* statistic\n",
    "g_star = esda.getisord.G_Local(gdf[\"Accredited_Voters\"].astype(float), w)\n",
    "\n",
    "\n",
    "# Add Gi* values and p-values to the DataFrame\n",
    "gdf[\"Gi_star\"] = g_star.Zs  # Standardized Getis-Ord Gi*\n",
    "gdf[\"pGO_value\"] = g_star.p_sim  # P-values for significance\n",
    "\n",
    "# Identify significant hot/cold spots\n",
    "gdf[\"Hotspot_Type\"] = \"Not Significant\"\n",
    "gdf.loc[(gdf[\"Gi_star\"] > 1.96) & (gdf[\"pGO_value\"] < 0.05), \"Hotspot_Type\"] = \"Hot Spot\"\n",
    "gdf.loc[(gdf[\"Gi_star\"] < -1.96) & (gdf[\"pGO_value\"] < 0.05), \"Hotspot_Type\"] = \"Cold Spot\"\n",
    "\n",
    "# Plot results\n",
    "plt.figure(figsize=(8, 6))\n",
    "sns.scatterplot(data=gdf, x=\"Longitude\", y=\"Latitude\", hue=\"Hotspot_Type\", \n",
    "                palette={\"Hot Spot\": \"red\", \"Cold Spot\": \"blue\", \"Not Significant\": \"gray\"}, alpha=0.6)\n",
    "plt.title(\"Getis-Ord Gi* (Hot Spot Analysis - Accredited Voters)\")\n",
    "plt.legend(title=\"Hot Spot Type\")\n",
    "plt.show()\n"
   ]
  },
  {
   "cell_type": "code",
   "execution_count": 140,
   "id": "ef0d070b-5ea0-46ec-9b92-0c21e5d222d8",
   "metadata": {},
   "outputs": [],
   "source": [
    "df[\"Accredited_Voters\"] = pd.to_numeric(df[\"Accredited_Voters\"], errors=\"coerce\").astype(float)"
   ]
  },
  {
   "cell_type": "code",
   "execution_count": 145,
   "id": "e0b101e5-7b1b-4e58-9173-5444e1458e6f",
   "metadata": {},
   "outputs": [
    {
     "data": {
      "text/plain": [
       "Index(['State', 'LGA', 'Ward', 'PU-Code', 'PU-Name', 'Accredited_Voters',\n",
       "       'Registered_Voters', 'Results_Found', 'Transcription_Count',\n",
       "       'Result_Sheet_Stamped', 'Result_Sheet_Corrected',\n",
       "       'Result_Sheet_Invalid', 'Result_Sheet_Unclear', 'Result_Sheet_Unsigned',\n",
       "       'APC', 'LP', 'PDP', 'NNPP', 'Results_File', 'Latitude', 'Longitude',\n",
       "       'HDBSCAN_Cluster', 'geometry', 'Local_Moran_I', 'p_value',\n",
       "       'Cluster_Type', 'Gi_star', 'pGO_value', 'Hotspot_Type'],\n",
       "      dtype='object')"
      ]
     },
     "execution_count": 145,
     "metadata": {},
     "output_type": "execute_result"
    }
   ],
   "source": [
    "gdf.columns"
   ]
  },
  {
   "cell_type": "code",
   "execution_count": 146,
   "id": "a433dab4-f130-4e77-bf67-5f714ad32260",
   "metadata": {},
   "outputs": [],
   "source": [
    "gdf.to_csv('Vote and location concentration.csv')"
   ]
  },
  {
   "cell_type": "code",
   "execution_count": 147,
   "id": "eb1ca792-a5f6-4d7a-bb63-a30b98441c70",
   "metadata": {},
   "outputs": [
    {
     "data": {
      "text/plain": [
       "Hotspot_Type\n",
       "Not Significant    2248\n",
       "Name: count, dtype: int64"
      ]
     },
     "execution_count": 147,
     "metadata": {},
     "output_type": "execute_result"
    }
   ],
   "source": [
    "gdf[\"Hotspot_Type\"].value_counts()"
   ]
  },
  {
   "cell_type": "code",
   "execution_count": null,
   "id": "6bc44a3e-b851-4681-a77e-e015cc0e7124",
   "metadata": {},
   "outputs": [],
   "source": []
  },
  {
   "cell_type": "code",
   "execution_count": null,
   "id": "7bee9e19-ea96-4d64-9938-7fa0578df4fc",
   "metadata": {},
   "outputs": [],
   "source": []
  },
  {
   "cell_type": "code",
   "execution_count": null,
   "id": "e8505a53-9380-48fe-9908-e9960433366b",
   "metadata": {},
   "outputs": [],
   "source": []
  },
  {
   "cell_type": "code",
   "execution_count": null,
   "id": "79496831-16af-4cc9-a396-b72b9335fa52",
   "metadata": {},
   "outputs": [],
   "source": []
  },
  {
   "cell_type": "code",
   "execution_count": null,
   "id": "f3b74643-1f20-4c8a-aee4-dc9f5ca855f4",
   "metadata": {},
   "outputs": [],
   "source": []
  },
  {
   "cell_type": "code",
   "execution_count": 2,
   "id": "756dfa34-4011-468a-9709-8dfcecd472c7",
   "metadata": {},
   "outputs": [],
   "source": [
    "import pandas as pd\n",
    "import numpy as np"
   ]
  },
  {
   "cell_type": "code",
   "execution_count": 3,
   "id": "aee42076-9b30-4520-9076-daeb69c7defa",
   "metadata": {},
   "outputs": [],
   "source": [
    "dg = pd.read_csv('Vote and location concentration.csv')"
   ]
  },
  {
   "cell_type": "code",
   "execution_count": 5,
   "id": "8f80399a-9d22-459f-9297-d467236bc5fa",
   "metadata": {},
   "outputs": [
    {
     "data": {
      "text/plain": [
       "Index(['Unnamed: 0', 'State', 'LGA', 'Ward', 'PU-Code', 'PU-Name',\n",
       "       'Accredited_Voters', 'Registered_Voters', 'Results_Found',\n",
       "       'Transcription_Count', 'Result_Sheet_Stamped', 'Result_Sheet_Corrected',\n",
       "       'Result_Sheet_Invalid', 'Result_Sheet_Unclear', 'Result_Sheet_Unsigned',\n",
       "       'APC', 'LP', 'PDP', 'NNPP', 'Results_File', 'Latitude', 'Longitude',\n",
       "       'HDBSCAN_Cluster', 'geometry', 'Local_Moran_I', 'p_value',\n",
       "       'Cluster_Type', 'Gi_star', 'pGO_value', 'Hotspot_Type'],\n",
       "      dtype='object')"
      ]
     },
     "execution_count": 5,
     "metadata": {},
     "output_type": "execute_result"
    }
   ],
   "source": [
    "dg.columns"
   ]
  },
  {
   "cell_type": "code",
   "execution_count": 8,
   "id": "f1e0b911-6664-438f-8457-48068b62c438",
   "metadata": {},
   "outputs": [
    {
     "data": {
      "text/plain": [
       "30"
      ]
     },
     "execution_count": 8,
     "metadata": {},
     "output_type": "execute_result"
    }
   ],
   "source": [
    "dg['LGA'].nunique()"
   ]
  },
  {
   "cell_type": "code",
   "execution_count": 11,
   "id": "bbca25ed-03ff-4402-8bdd-7061bd7f2e67",
   "metadata": {},
   "outputs": [
    {
     "data": {
      "text/plain": [
       "Cluster_Type\n",
       "Not Significant    906\n",
       "High-High          730\n",
       "High-Low           612\n",
       "Name: count, dtype: int64"
      ]
     },
     "execution_count": 11,
     "metadata": {},
     "output_type": "execute_result"
    }
   ],
   "source": [
    "dg['Cluster_Type'].value_counts()"
   ]
  },
  {
   "cell_type": "code",
   "execution_count": 16,
   "id": "95a61980-8a2a-4f87-ba29-02bd7212c57b",
   "metadata": {},
   "outputs": [],
   "source": [
    "df1=dg[dg['Cluster_Type']=='High-Low']"
   ]
  },
  {
   "cell_type": "code",
   "execution_count": 17,
   "id": "db194a90-d83b-4561-b7ad-1560beb69b4d",
   "metadata": {},
   "outputs": [
    {
     "data": {
      "text/plain": [
       "HDBSCAN_Cluster\n",
       "7    161\n",
       "1     94\n",
       "3     90\n",
       "0     78\n",
       "2     71\n",
       "5     66\n",
       "4     52\n",
       "Name: count, dtype: int64"
      ]
     },
     "execution_count": 17,
     "metadata": {},
     "output_type": "execute_result"
    }
   ],
   "source": [
    "df1['HDBSCAN_Cluster'].value_counts()"
   ]
  },
  {
   "cell_type": "code",
   "execution_count": 18,
   "id": "b156af60-4ab9-4934-868a-d78f50ba8b8e",
   "metadata": {},
   "outputs": [
    {
     "data": {
      "text/plain": [
       "HDBSCAN_Cluster\n",
       " 25    190\n",
       " 7     161\n",
       " 11    113\n",
       " 28    106\n",
       " 6     101\n",
       " 19    101\n",
       " 1      94\n",
       " 20     92\n",
       " 3      90\n",
       " 17     87\n",
       " 14     79\n",
       " 0      78\n",
       " 9      75\n",
       " 22     73\n",
       " 2      71\n",
       " 24     71\n",
       " 21     68\n",
       " 5      66\n",
       " 23     66\n",
       " 13     63\n",
       " 16     62\n",
       " 26     56\n",
       " 4      52\n",
       " 18     48\n",
       " 27     45\n",
       " 10     45\n",
       " 8      41\n",
       " 15     39\n",
       " 12     11\n",
       "-1       4\n",
       "Name: count, dtype: int64"
      ]
     },
     "execution_count": 18,
     "metadata": {},
     "output_type": "execute_result"
    }
   ],
   "source": [
    "dg['HDBSCAN_Cluster'].value_counts()"
   ]
  },
  {
   "cell_type": "code",
   "execution_count": 19,
   "id": "05a9a882-8675-42a7-a568-5a0686049691",
   "metadata": {},
   "outputs": [
    {
     "data": {
      "text/plain": [
       "Anomaly_Label\n",
       "Normal       2135\n",
       "Anomalous     113\n",
       "Name: count, dtype: int64"
      ]
     },
     "execution_count": 19,
     "metadata": {},
     "output_type": "execute_result"
    }
   ],
   "source": [
    "from sklearn.ensemble import IsolationForest\n",
    "import numpy as np\n",
    "\n",
    "df = pd.read_csv('Vote and location concentration.csv')\n",
    "# Selecting relevant numerical features for anomaly detection\n",
    "features = [\"Accredited_Voters\", \"Registered_Voters\", \"APC\", \"LP\", \"PDP\", \"NNPP\", \"SUM\", \"Latitude\", \"Longitude\"]\n",
    "data = df[features]\n",
    "\n",
    "# Handling potential missing values\n",
    "data = data.fillna(data.median())\n",
    "\n",
    "# Applying Isolation Forest\n",
    "iso_forest = IsolationForest(n_estimators=100, contamination=0.05, random_state=42)\n",
    "df[\"Anomaly_Score\"] = iso_forest.fit_predict(data)\n",
    "\n",
    "# Mapping anomaly labels (-1: anomaly, 1: normal)\n",
    "df[\"Anomaly_Label\"] = np.where(df[\"Anomaly_Score\"] == -1, \"Anomalous\", \"Normal\")\n",
    "\n",
    "# Display anomaly summary\n",
    "df[\"Anomaly_Label\"].value_counts()\n"
   ]
  },
  {
   "cell_type": "code",
   "execution_count": 33,
   "id": "089011f5-67ac-4320-9660-59a235880b63",
   "metadata": {},
   "outputs": [],
   "source": [
    "df.to_csv('Vote and location concentration.csv', index = False)"
   ]
  },
  {
   "cell_type": "code",
   "execution_count": 26,
   "id": "a666f52f-b759-49ac-9d2a-914ef4e08726",
   "metadata": {},
   "outputs": [
    {
     "data": {
      "text/html": [
       "<div>\n",
       "<style scoped>\n",
       "    .dataframe tbody tr th:only-of-type {\n",
       "        vertical-align: middle;\n",
       "    }\n",
       "\n",
       "    .dataframe tbody tr th {\n",
       "        vertical-align: top;\n",
       "    }\n",
       "\n",
       "    .dataframe thead th {\n",
       "        text-align: right;\n",
       "    }\n",
       "</style>\n",
       "<table border=\"1\" class=\"dataframe\">\n",
       "  <thead>\n",
       "    <tr style=\"text-align: right;\">\n",
       "      <th></th>\n",
       "      <th>Unnamed: 0</th>\n",
       "      <th>State</th>\n",
       "      <th>Accredited_Voters</th>\n",
       "      <th>Registered_Voters</th>\n",
       "      <th>APC</th>\n",
       "      <th>LP</th>\n",
       "      <th>PDP</th>\n",
       "      <th>NNPP</th>\n",
       "      <th>SUM</th>\n",
       "      <th>Latitude</th>\n",
       "      <th>...</th>\n",
       "      <th>HDBSCAN_Cluster</th>\n",
       "      <th>geometry</th>\n",
       "      <th>Local_Moran_I</th>\n",
       "      <th>p_value</th>\n",
       "      <th>Cluster_Type</th>\n",
       "      <th>Gi_star</th>\n",
       "      <th>pGO_value</th>\n",
       "      <th>Hotspot_Type</th>\n",
       "      <th>Anomaly_Score</th>\n",
       "      <th>Anomaly_Label</th>\n",
       "    </tr>\n",
       "  </thead>\n",
       "  <tbody>\n",
       "    <tr>\n",
       "      <th>0</th>\n",
       "      <td>239</td>\n",
       "      <td>OSUN</td>\n",
       "      <td>180</td>\n",
       "      <td>407</td>\n",
       "      <td>63</td>\n",
       "      <td>8</td>\n",
       "      <td>105</td>\n",
       "      <td>0</td>\n",
       "      <td>176</td>\n",
       "      <td>7.91891</td>\n",
       "      <td>...</td>\n",
       "      <td>15</td>\n",
       "      <td>POINT (4.81303 7.91891)</td>\n",
       "      <td>0.024760</td>\n",
       "      <td>0.006</td>\n",
       "      <td>High-High</td>\n",
       "      <td>-0.908176</td>\n",
       "      <td>0.005</td>\n",
       "      <td>Not Significant</td>\n",
       "      <td>1</td>\n",
       "      <td>Normal</td>\n",
       "    </tr>\n",
       "    <tr>\n",
       "      <th>1</th>\n",
       "      <td>240</td>\n",
       "      <td>OSUN</td>\n",
       "      <td>138</td>\n",
       "      <td>294</td>\n",
       "      <td>65</td>\n",
       "      <td>2</td>\n",
       "      <td>81</td>\n",
       "      <td>0</td>\n",
       "      <td>148</td>\n",
       "      <td>7.91891</td>\n",
       "      <td>...</td>\n",
       "      <td>15</td>\n",
       "      <td>POINT (4.81303 7.91891)</td>\n",
       "      <td>0.024760</td>\n",
       "      <td>0.006</td>\n",
       "      <td>High-High</td>\n",
       "      <td>-0.908559</td>\n",
       "      <td>0.005</td>\n",
       "      <td>Not Significant</td>\n",
       "      <td>1</td>\n",
       "      <td>Normal</td>\n",
       "    </tr>\n",
       "    <tr>\n",
       "      <th>2</th>\n",
       "      <td>241</td>\n",
       "      <td>OSUN</td>\n",
       "      <td>121</td>\n",
       "      <td>213</td>\n",
       "      <td>49</td>\n",
       "      <td>3</td>\n",
       "      <td>68</td>\n",
       "      <td>0</td>\n",
       "      <td>120</td>\n",
       "      <td>7.91891</td>\n",
       "      <td>...</td>\n",
       "      <td>15</td>\n",
       "      <td>POINT (4.81303 7.91891)</td>\n",
       "      <td>0.024760</td>\n",
       "      <td>0.006</td>\n",
       "      <td>High-High</td>\n",
       "      <td>-0.908744</td>\n",
       "      <td>0.005</td>\n",
       "      <td>Not Significant</td>\n",
       "      <td>1</td>\n",
       "      <td>Normal</td>\n",
       "    </tr>\n",
       "    <tr>\n",
       "      <th>3</th>\n",
       "      <td>242</td>\n",
       "      <td>OSUN</td>\n",
       "      <td>138</td>\n",
       "      <td>243</td>\n",
       "      <td>38</td>\n",
       "      <td>2</td>\n",
       "      <td>68</td>\n",
       "      <td>0</td>\n",
       "      <td>108</td>\n",
       "      <td>7.91891</td>\n",
       "      <td>...</td>\n",
       "      <td>15</td>\n",
       "      <td>POINT (4.81303 7.91891)</td>\n",
       "      <td>0.024760</td>\n",
       "      <td>0.006</td>\n",
       "      <td>High-High</td>\n",
       "      <td>-0.908559</td>\n",
       "      <td>0.005</td>\n",
       "      <td>Not Significant</td>\n",
       "      <td>1</td>\n",
       "      <td>Normal</td>\n",
       "    </tr>\n",
       "    <tr>\n",
       "      <th>4</th>\n",
       "      <td>243</td>\n",
       "      <td>OSUN</td>\n",
       "      <td>116</td>\n",
       "      <td>234</td>\n",
       "      <td>46</td>\n",
       "      <td>2</td>\n",
       "      <td>66</td>\n",
       "      <td>0</td>\n",
       "      <td>114</td>\n",
       "      <td>7.91891</td>\n",
       "      <td>...</td>\n",
       "      <td>15</td>\n",
       "      <td>POINT (4.81303 7.91891)</td>\n",
       "      <td>0.024760</td>\n",
       "      <td>0.006</td>\n",
       "      <td>High-High</td>\n",
       "      <td>-0.908802</td>\n",
       "      <td>0.005</td>\n",
       "      <td>Not Significant</td>\n",
       "      <td>1</td>\n",
       "      <td>Normal</td>\n",
       "    </tr>\n",
       "    <tr>\n",
       "      <th>...</th>\n",
       "      <td>...</td>\n",
       "      <td>...</td>\n",
       "      <td>...</td>\n",
       "      <td>...</td>\n",
       "      <td>...</td>\n",
       "      <td>...</td>\n",
       "      <td>...</td>\n",
       "      <td>...</td>\n",
       "      <td>...</td>\n",
       "      <td>...</td>\n",
       "      <td>...</td>\n",
       "      <td>...</td>\n",
       "      <td>...</td>\n",
       "      <td>...</td>\n",
       "      <td>...</td>\n",
       "      <td>...</td>\n",
       "      <td>...</td>\n",
       "      <td>...</td>\n",
       "      <td>...</td>\n",
       "      <td>...</td>\n",
       "      <td>...</td>\n",
       "    </tr>\n",
       "    <tr>\n",
       "      <th>2243</th>\n",
       "      <td>2243</td>\n",
       "      <td>OSUN</td>\n",
       "      <td>246</td>\n",
       "      <td>586</td>\n",
       "      <td>134</td>\n",
       "      <td>5</td>\n",
       "      <td>100</td>\n",
       "      <td>1</td>\n",
       "      <td>240</td>\n",
       "      <td>7.77104</td>\n",
       "      <td>...</td>\n",
       "      <td>25</td>\n",
       "      <td>POINT (4.55698 7.77104)</td>\n",
       "      <td>0.002187</td>\n",
       "      <td>0.145</td>\n",
       "      <td>Not Significant</td>\n",
       "      <td>-0.108141</td>\n",
       "      <td>0.377</td>\n",
       "      <td>Not Significant</td>\n",
       "      <td>1</td>\n",
       "      <td>Normal</td>\n",
       "    </tr>\n",
       "    <tr>\n",
       "      <th>2244</th>\n",
       "      <td>2244</td>\n",
       "      <td>OSUN</td>\n",
       "      <td>139</td>\n",
       "      <td>179</td>\n",
       "      <td>46</td>\n",
       "      <td>4</td>\n",
       "      <td>50</td>\n",
       "      <td>1</td>\n",
       "      <td>101</td>\n",
       "      <td>7.77104</td>\n",
       "      <td>...</td>\n",
       "      <td>25</td>\n",
       "      <td>POINT (4.55698 7.77104)</td>\n",
       "      <td>0.002187</td>\n",
       "      <td>0.145</td>\n",
       "      <td>Not Significant</td>\n",
       "      <td>-0.108740</td>\n",
       "      <td>0.377</td>\n",
       "      <td>Not Significant</td>\n",
       "      <td>1</td>\n",
       "      <td>Normal</td>\n",
       "    </tr>\n",
       "    <tr>\n",
       "      <th>2245</th>\n",
       "      <td>2245</td>\n",
       "      <td>OSUN</td>\n",
       "      <td>139</td>\n",
       "      <td>179</td>\n",
       "      <td>25</td>\n",
       "      <td>5</td>\n",
       "      <td>44</td>\n",
       "      <td>1</td>\n",
       "      <td>75</td>\n",
       "      <td>7.77104</td>\n",
       "      <td>...</td>\n",
       "      <td>25</td>\n",
       "      <td>POINT (4.55698 7.77104)</td>\n",
       "      <td>0.002187</td>\n",
       "      <td>0.145</td>\n",
       "      <td>Not Significant</td>\n",
       "      <td>-0.108740</td>\n",
       "      <td>0.377</td>\n",
       "      <td>Not Significant</td>\n",
       "      <td>1</td>\n",
       "      <td>Normal</td>\n",
       "    </tr>\n",
       "    <tr>\n",
       "      <th>2246</th>\n",
       "      <td>2246</td>\n",
       "      <td>OSUN</td>\n",
       "      <td>139</td>\n",
       "      <td>179</td>\n",
       "      <td>11</td>\n",
       "      <td>1</td>\n",
       "      <td>40</td>\n",
       "      <td>0</td>\n",
       "      <td>52</td>\n",
       "      <td>7.77104</td>\n",
       "      <td>...</td>\n",
       "      <td>25</td>\n",
       "      <td>POINT (4.55698 7.77104)</td>\n",
       "      <td>0.002187</td>\n",
       "      <td>0.145</td>\n",
       "      <td>Not Significant</td>\n",
       "      <td>-0.108740</td>\n",
       "      <td>0.377</td>\n",
       "      <td>Not Significant</td>\n",
       "      <td>1</td>\n",
       "      <td>Normal</td>\n",
       "    </tr>\n",
       "    <tr>\n",
       "      <th>2247</th>\n",
       "      <td>2247</td>\n",
       "      <td>OSUN</td>\n",
       "      <td>123</td>\n",
       "      <td>354</td>\n",
       "      <td>52</td>\n",
       "      <td>1</td>\n",
       "      <td>64</td>\n",
       "      <td>0</td>\n",
       "      <td>117</td>\n",
       "      <td>7.77104</td>\n",
       "      <td>...</td>\n",
       "      <td>25</td>\n",
       "      <td>POINT (4.55698 7.77104)</td>\n",
       "      <td>0.002187</td>\n",
       "      <td>0.145</td>\n",
       "      <td>Not Significant</td>\n",
       "      <td>-0.108837</td>\n",
       "      <td>0.375</td>\n",
       "      <td>Not Significant</td>\n",
       "      <td>1</td>\n",
       "      <td>Normal</td>\n",
       "    </tr>\n",
       "  </tbody>\n",
       "</table>\n",
       "<p>2248 rows × 21 columns</p>\n",
       "</div>"
      ],
      "text/plain": [
       "      Unnamed: 0 State  Accredited_Voters  Registered_Voters  APC  LP  PDP  \\\n",
       "0            239  OSUN                180                407   63   8  105   \n",
       "1            240  OSUN                138                294   65   2   81   \n",
       "2            241  OSUN                121                213   49   3   68   \n",
       "3            242  OSUN                138                243   38   2   68   \n",
       "4            243  OSUN                116                234   46   2   66   \n",
       "...          ...   ...                ...                ...  ...  ..  ...   \n",
       "2243        2243  OSUN                246                586  134   5  100   \n",
       "2244        2244  OSUN                139                179   46   4   50   \n",
       "2245        2245  OSUN                139                179   25   5   44   \n",
       "2246        2246  OSUN                139                179   11   1   40   \n",
       "2247        2247  OSUN                123                354   52   1   64   \n",
       "\n",
       "      NNPP  SUM  Latitude  ...  HDBSCAN_Cluster                 geometry  \\\n",
       "0        0  176   7.91891  ...               15  POINT (4.81303 7.91891)   \n",
       "1        0  148   7.91891  ...               15  POINT (4.81303 7.91891)   \n",
       "2        0  120   7.91891  ...               15  POINT (4.81303 7.91891)   \n",
       "3        0  108   7.91891  ...               15  POINT (4.81303 7.91891)   \n",
       "4        0  114   7.91891  ...               15  POINT (4.81303 7.91891)   \n",
       "...    ...  ...       ...  ...              ...                      ...   \n",
       "2243     1  240   7.77104  ...               25  POINT (4.55698 7.77104)   \n",
       "2244     1  101   7.77104  ...               25  POINT (4.55698 7.77104)   \n",
       "2245     1   75   7.77104  ...               25  POINT (4.55698 7.77104)   \n",
       "2246     0   52   7.77104  ...               25  POINT (4.55698 7.77104)   \n",
       "2247     0  117   7.77104  ...               25  POINT (4.55698 7.77104)   \n",
       "\n",
       "     Local_Moran_I  p_value     Cluster_Type   Gi_star  pGO_value  \\\n",
       "0         0.024760    0.006        High-High -0.908176      0.005   \n",
       "1         0.024760    0.006        High-High -0.908559      0.005   \n",
       "2         0.024760    0.006        High-High -0.908744      0.005   \n",
       "3         0.024760    0.006        High-High -0.908559      0.005   \n",
       "4         0.024760    0.006        High-High -0.908802      0.005   \n",
       "...            ...      ...              ...       ...        ...   \n",
       "2243      0.002187    0.145  Not Significant -0.108141      0.377   \n",
       "2244      0.002187    0.145  Not Significant -0.108740      0.377   \n",
       "2245      0.002187    0.145  Not Significant -0.108740      0.377   \n",
       "2246      0.002187    0.145  Not Significant -0.108740      0.377   \n",
       "2247      0.002187    0.145  Not Significant -0.108837      0.375   \n",
       "\n",
       "         Hotspot_Type Anomaly_Score  Anomaly_Label  \n",
       "0     Not Significant             1         Normal  \n",
       "1     Not Significant             1         Normal  \n",
       "2     Not Significant             1         Normal  \n",
       "3     Not Significant             1         Normal  \n",
       "4     Not Significant             1         Normal  \n",
       "...               ...           ...            ...  \n",
       "2243  Not Significant             1         Normal  \n",
       "2244  Not Significant             1         Normal  \n",
       "2245  Not Significant             1         Normal  \n",
       "2246  Not Significant             1         Normal  \n",
       "2247  Not Significant             1         Normal  \n",
       "\n",
       "[2248 rows x 21 columns]"
      ]
     },
     "execution_count": 26,
     "metadata": {},
     "output_type": "execute_result"
    }
   ],
   "source": [
    "df.drop(columns = ['Unnamed: 19', 'Unnamed: 20',\n",
    "       'Unnamed: 21', 'Unnamed: 22'], axis = 1)"
   ]
  },
  {
   "cell_type": "code",
   "execution_count": 32,
   "id": "e9d1be47-9a19-4f3f-864f-26ed4c42b4c7",
   "metadata": {},
   "outputs": [
    {
     "ename": "FileNotFoundError",
     "evalue": "[Errno 2] No such file or directory: '/mnt/data/anomaly_map.html'",
     "output_type": "error",
     "traceback": [
      "\u001b[1;31m---------------------------------------------------------------------------\u001b[0m",
      "\u001b[1;31mFileNotFoundError\u001b[0m                         Traceback (most recent call last)",
      "Cell \u001b[1;32mIn[32], line 22\u001b[0m\n\u001b[0;32m     20\u001b[0m \u001b[38;5;66;03m# Save the map\u001b[39;00m\n\u001b[0;32m     21\u001b[0m map_path \u001b[38;5;241m=\u001b[39m \u001b[38;5;124m\"\u001b[39m\u001b[38;5;124m/mnt/data/anomaly_map.html\u001b[39m\u001b[38;5;124m\"\u001b[39m\n\u001b[1;32m---> 22\u001b[0m m\u001b[38;5;241m.\u001b[39msave(map_path)\n\u001b[0;32m     23\u001b[0m map_path\n",
      "File \u001b[1;32m~\\anaconda3\\Lib\\site-packages\\branca\\element.py:223\u001b[0m, in \u001b[0;36mElement.save\u001b[1;34m(self, outfile, close_file, **kwargs)\u001b[0m\n\u001b[0;32m    221\u001b[0m fid: BinaryIO\n\u001b[0;32m    222\u001b[0m \u001b[38;5;28;01mif\u001b[39;00m \u001b[38;5;28misinstance\u001b[39m(outfile, (\u001b[38;5;28mstr\u001b[39m, \u001b[38;5;28mbytes\u001b[39m, Path)):\n\u001b[1;32m--> 223\u001b[0m     fid \u001b[38;5;241m=\u001b[39m \u001b[38;5;28mopen\u001b[39m(outfile, \u001b[38;5;124m\"\u001b[39m\u001b[38;5;124mwb\u001b[39m\u001b[38;5;124m\"\u001b[39m)\n\u001b[0;32m    224\u001b[0m \u001b[38;5;28;01melse\u001b[39;00m:\n\u001b[0;32m    225\u001b[0m     fid \u001b[38;5;241m=\u001b[39m outfile\n",
      "\u001b[1;31mFileNotFoundError\u001b[0m: [Errno 2] No such file or directory: '/mnt/data/anomaly_map.html'"
     ]
    }
   ],
   "source": [
    "# Re-import necessary libraries for mapping\n",
    "import folium\n",
    "\n",
    "# Define the map center\n",
    "map_center = [df[\"Latitude\"].mean(), df[\"Longitude\"].mean()]\n",
    "m = folium.Map(location=map_center, zoom_start=6)\n",
    "\n",
    "# Add data points to the map\n",
    "for _, row in df.iterrows():\n",
    "    color = \"red\" if row[\"Anomaly_Label\"] == \"Anomalous\" else \"blue\"\n",
    "    folium.CircleMarker(\n",
    "        location=[row[\"Latitude\"], row[\"Longitude\"]],\n",
    "        radius=4,\n",
    "        color=color,\n",
    "        fill=True,\n",
    "        fill_color=color,\n",
    "        fill_opacity=0.6,\n",
    "    ).add_to(m)\n",
    "\n",
    "# Save the map\n",
    "map_path = \"/mnt/data/anomaly_map.html\"\n",
    "m.save(map_path)\n",
    "map_path"
   ]
  },
  {
   "cell_type": "code",
   "execution_count": 29,
   "id": "ac9e35ef-2a8c-4cd0-8b1d-90f2cb163d66",
   "metadata": {},
   "outputs": [
    {
     "name": "stdout",
     "output_type": "stream",
     "text": [
      "Collecting folium\n",
      "  Downloading folium-0.19.5-py2.py3-none-any.whl.metadata (4.1 kB)\n",
      "Collecting branca>=0.6.0 (from folium)\n",
      "  Downloading branca-0.8.1-py3-none-any.whl.metadata (1.5 kB)\n",
      "Requirement already satisfied: jinja2>=2.9 in c:\\users\\dell\\anaconda3\\lib\\site-packages (from folium) (3.1.4)\n",
      "Requirement already satisfied: numpy in c:\\users\\dell\\anaconda3\\lib\\site-packages (from folium) (1.26.4)\n",
      "Requirement already satisfied: requests in c:\\users\\dell\\anaconda3\\lib\\site-packages (from folium) (2.32.3)\n",
      "Requirement already satisfied: xyzservices in c:\\users\\dell\\anaconda3\\lib\\site-packages (from folium) (2022.9.0)\n",
      "Requirement already satisfied: MarkupSafe>=2.0 in c:\\users\\dell\\anaconda3\\lib\\site-packages (from jinja2>=2.9->folium) (2.1.3)\n",
      "Requirement already satisfied: charset-normalizer<4,>=2 in c:\\users\\dell\\anaconda3\\lib\\site-packages (from requests->folium) (3.3.2)\n",
      "Requirement already satisfied: idna<4,>=2.5 in c:\\users\\dell\\anaconda3\\lib\\site-packages (from requests->folium) (3.7)\n",
      "Requirement already satisfied: urllib3<3,>=1.21.1 in c:\\users\\dell\\anaconda3\\lib\\site-packages (from requests->folium) (2.2.3)\n",
      "Requirement already satisfied: certifi>=2017.4.17 in c:\\users\\dell\\anaconda3\\lib\\site-packages (from requests->folium) (2024.8.30)\n",
      "Downloading folium-0.19.5-py2.py3-none-any.whl (110 kB)\n",
      "Downloading branca-0.8.1-py3-none-any.whl (26 kB)\n",
      "Installing collected packages: branca, folium\n",
      "Successfully installed branca-0.8.1 folium-0.19.5\n"
     ]
    }
   ],
   "source": [
    "!pip install folium"
   ]
  },
  {
   "cell_type": "code",
   "execution_count": null,
   "id": "2e0bfd25-5cbd-4709-9335-aefb2aa75ef3",
   "metadata": {},
   "outputs": [],
   "source": []
  }
 ],
 "metadata": {
  "kernelspec": {
   "display_name": "Python 3 (ipykernel)",
   "language": "python",
   "name": "python3"
  },
  "language_info": {
   "codemirror_mode": {
    "name": "ipython",
    "version": 3
   },
   "file_extension": ".py",
   "mimetype": "text/x-python",
   "name": "python",
   "nbconvert_exporter": "python",
   "pygments_lexer": "ipython3",
   "version": "3.12.7"
  }
 },
 "nbformat": 4,
 "nbformat_minor": 5
}
